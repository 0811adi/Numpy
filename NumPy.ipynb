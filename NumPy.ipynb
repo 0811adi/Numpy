{
 "cells": [
  {
   "cell_type": "code",
   "execution_count": 1,
   "id": "e6084158",
   "metadata": {},
   "outputs": [],
   "source": [
    "import numpy as np  ## we can write any things at place of np"
   ]
  },
  {
   "cell_type": "code",
   "execution_count": 2,
   "id": "f6a29146",
   "metadata": {
    "scrolled": false
   },
   "outputs": [
    {
     "name": "stdout",
     "output_type": "stream",
     "text": [
      "1.21.2\n"
     ]
    }
   ],
   "source": [
    "print(np.__version__)"
   ]
  },
  {
   "cell_type": "markdown",
   "id": "3f232762",
   "metadata": {},
   "source": [
    "# Single-dimension arrays, behave similar to row vectors"
   ]
  },
  {
   "cell_type": "code",
   "execution_count": 8,
   "id": "bc903ced",
   "metadata": {},
   "outputs": [],
   "source": [
    "x = np.array([1,2,3,4,5])"
   ]
  },
  {
   "cell_type": "code",
   "execution_count": 14,
   "id": "2e60435c",
   "metadata": {},
   "outputs": [],
   "source": [
    "x1 = np.array([6,7,8,9,0])"
   ]
  },
  {
   "cell_type": "code",
   "execution_count": 21,
   "id": "3e009368",
   "metadata": {},
   "outputs": [
    {
     "name": "stdout",
     "output_type": "stream",
     "text": [
      "x= [1 2 3 4 5] <class 'numpy.ndarray'>\n"
     ]
    }
   ],
   "source": [
    "print('x=',x, type(x))"
   ]
  },
  {
   "cell_type": "code",
   "execution_count": 23,
   "id": "f97751d8",
   "metadata": {},
   "outputs": [
    {
     "name": "stdout",
     "output_type": "stream",
     "text": [
      "x1= [6 7 8 9 0]\n"
     ]
    }
   ],
   "source": [
    "print('x1=', x1)"
   ]
  },
  {
   "cell_type": "code",
   "execution_count": 24,
   "id": "621bb9bb",
   "metadata": {},
   "outputs": [
    {
     "name": "stdout",
     "output_type": "stream",
     "text": [
      "(5,)\n"
     ]
    }
   ],
   "source": [
    "print(np.shape(x))"
   ]
  },
  {
   "cell_type": "code",
   "execution_count": 25,
   "id": "84fd9a78",
   "metadata": {},
   "outputs": [],
   "source": [
    "x2 = np.array([[6,7,8,9,0]]) ## if we put one more [] in place x1 and then we see the shape it show 1D"
   ]
  },
  {
   "cell_type": "code",
   "execution_count": 27,
   "id": "d7d5de59",
   "metadata": {},
   "outputs": [
    {
     "name": "stdout",
     "output_type": "stream",
     "text": [
      "(1, 5)\n"
     ]
    }
   ],
   "source": [
    "print(np.shape(x2))   ## it show 1D array which have 5 elements means 1 row & 5 coloumn"
   ]
  },
  {
   "cell_type": "code",
   "execution_count": 29,
   "id": "f9503a82",
   "metadata": {},
   "outputs": [
    {
     "name": "stdout",
     "output_type": "stream",
     "text": [
      "(5,) (1, 5)\n"
     ]
    }
   ],
   "source": [
    "print(np.shape(x1),np.shape(x2))  ## its a difference x1 is not dimension but x2 is 1D"
   ]
  },
  {
   "cell_type": "code",
   "execution_count": 32,
   "id": "52301a01",
   "metadata": {},
   "outputs": [
    {
     "name": "stdout",
     "output_type": "stream",
     "text": [
      "(1, 5) (5,)\n"
     ]
    }
   ],
   "source": [
    "print(x2.shape,x1.shape)  ### x2.shape & x2.shape(x2) both are same function \n",
    "                     ## so we say that  x2.shape == x2.shape(x2)"
   ]
  },
  {
   "cell_type": "code",
   "execution_count": 33,
   "id": "b5f89f44",
   "metadata": {},
   "outputs": [
    {
     "name": "stdout",
     "output_type": "stream",
     "text": [
      "y= [ 6  7  8  9 10]\n"
     ]
    }
   ],
   "source": [
    "y = x + 5\n",
    "print('y=',y)"
   ]
  },
  {
   "cell_type": "code",
   "execution_count": 34,
   "id": "328f6833",
   "metadata": {},
   "outputs": [
    {
     "name": "stdout",
     "output_type": "stream",
     "text": [
      "z= [ 2  4  6  8 10]\n"
     ]
    }
   ],
   "source": [
    "z = x*2\n",
    "print('z=',z)"
   ]
  },
  {
   "cell_type": "code",
   "execution_count": 36,
   "id": "be777680",
   "metadata": {},
   "outputs": [
    {
     "name": "stdout",
     "output_type": "stream",
     "text": [
      "w= [  4  16  36  64 100]\n"
     ]
    }
   ],
   "source": [
    "w = z**2\n",
    "print('w=',w)"
   ]
  },
  {
   "cell_type": "code",
   "execution_count": 39,
   "id": "60d6b9f5",
   "metadata": {
    "scrolled": true
   },
   "outputs": [
    {
     "name": "stdout",
     "output_type": "stream",
     "text": [
      "k= [[11 12 13 14  5]]\n"
     ]
    }
   ],
   "source": [
    "k = x2 + 5\n",
    "print('k=',k)"
   ]
  },
  {
   "cell_type": "markdown",
   "id": "dd7208b0",
   "metadata": {},
   "source": [
    "# 3. Matrices: Two-dimensional arrays"
   ]
  },
  {
   "cell_type": "code",
   "execution_count": 40,
   "id": "8f51d4b5",
   "metadata": {},
   "outputs": [],
   "source": [
    "A = np.array([\n",
    "              [1,2,3,4],\n",
    "              [4,5,6,6],\n",
    "              [7,8,9,9]\n",
    "            ])"
   ]
  },
  {
   "cell_type": "code",
   "execution_count": 42,
   "id": "fb108f83",
   "metadata": {},
   "outputs": [
    {
     "name": "stdout",
     "output_type": "stream",
     "text": [
      "[[1 2 3 4]\n",
      " [4 5 6 6]\n",
      " [7 8 9 9]] (3, 4)\n"
     ]
    }
   ],
   "source": [
    "print(A,A.shape)"
   ]
  },
  {
   "cell_type": "code",
   "execution_count": 43,
   "id": "6cac735d",
   "metadata": {},
   "outputs": [
    {
     "name": "stdout",
     "output_type": "stream",
     "text": [
      "[[11 12 13 14]\n",
      " [14 15 16 16]\n",
      " [17 18 19 19]] (3, 4)\n"
     ]
    }
   ],
   "source": [
    "c = A+10\n",
    "print(c,c.shape)"
   ]
  },
  {
   "cell_type": "code",
   "execution_count": 46,
   "id": "fe52fdda",
   "metadata": {},
   "outputs": [
    {
     "name": "stdout",
     "output_type": "stream",
     "text": [
      "\n",
      "[[ 3  6  9 12]\n",
      " [12 15 18 18]\n",
      " [21 24 27 27]]\n"
     ]
    }
   ],
   "source": [
    "print('')\n",
    "\n",
    "D = A*3\n",
    "print(D)"
   ]
  },
  {
   "cell_type": "markdown",
   "id": "b84ce3d0",
   "metadata": {},
   "source": [
    "# Compatible operations for matrices and vectors"
   ]
  },
  {
   "cell_type": "code",
   "execution_count": 50,
   "id": "c50125ca",
   "metadata": {},
   "outputs": [],
   "source": [
    "A = np.array([[1,2,3],[4,5,6],[7,8,9]])"
   ]
  },
  {
   "cell_type": "code",
   "execution_count": 52,
   "id": "29c86a03",
   "metadata": {},
   "outputs": [
    {
     "name": "stdout",
     "output_type": "stream",
     "text": [
      "[[1 2 3]\n",
      " [4 5 6]\n",
      " [7 8 9]] (3, 3)\n"
     ]
    }
   ],
   "source": [
    "print(A,A.shape)"
   ]
  },
  {
   "cell_type": "code",
   "execution_count": 56,
   "id": "af3f4e43",
   "metadata": {},
   "outputs": [
    {
     "name": "stdout",
     "output_type": "stream",
     "text": [
      "[[1 2 3]\n",
      " [4 5 6]\n",
      " [7 8 9]] [1 2 3]\n",
      "\n",
      "\n",
      "[[ 2  4  6]\n",
      " [ 5  7  9]\n",
      " [ 8 10 12]]\n"
     ]
    }
   ],
   "source": [
    "x = np.array([1,2,3])\n",
    "print(A,x)\n",
    "print('\\n')\n",
    "print(A + x)  #### only one [] is present note it"
   ]
  },
  {
   "cell_type": "code",
   "execution_count": 54,
   "id": "2cf23736",
   "metadata": {},
   "outputs": [
    {
     "name": "stdout",
     "output_type": "stream",
     "text": [
      "[[ 2  4  6]\n",
      " [ 5  7  9]\n",
      " [ 8 10 12]]\n"
     ]
    }
   ],
   "source": [
    "y = np.array([[1,2,3]])\n",
    "print(A + y)             ## we see here x and y both are same"
   ]
  },
  {
   "cell_type": "code",
   "execution_count": 59,
   "id": "3c8951d5",
   "metadata": {},
   "outputs": [
    {
     "name": "stdout",
     "output_type": "stream",
     "text": [
      "[[1]\n",
      " [2]\n",
      " [3]] (3, 1)\n",
      "[[ 2  3  4]\n",
      " [ 6  7  8]\n",
      " [10 11 12]]\n"
     ]
    }
   ],
   "source": [
    "x1 = np.array([[1],[2],[3]]) ## here i made it coloumn vector\n",
    "print(x1,x1.shape)\n",
    "print(A  + x1)"
   ]
  },
  {
   "cell_type": "code",
   "execution_count": 62,
   "id": "c6a82787",
   "metadata": {},
   "outputs": [],
   "source": [
    "x1 = np.array([[1],[2],[3]])\n",
    "# We can write it in softicated manner\n",
    "x1 = np.array([\n",
    "               [1],\n",
    "               [2],\n",
    "               [3]\n",
    "             ])"
   ]
  },
  {
   "cell_type": "code",
   "execution_count": 63,
   "id": "27ac816c",
   "metadata": {},
   "outputs": [],
   "source": [
    "x = np.array([1,2,3])\n",
    "y = np.array([1,2,3])\n",
    "\n",
    "inner = np.dot(x,y)"
   ]
  },
  {
   "cell_type": "code",
   "execution_count": 64,
   "id": "4afa8986",
   "metadata": {},
   "outputs": [
    {
     "name": "stdout",
     "output_type": "stream",
     "text": [
      "14\n"
     ]
    }
   ],
   "source": [
    "print(inner) ## it is dot product"
   ]
  },
  {
   "cell_type": "code",
   "execution_count": 67,
   "id": "644df50a",
   "metadata": {},
   "outputs": [
    {
     "name": "stdout",
     "output_type": "stream",
     "text": [
      "[[1 2 3]\n",
      " [2 4 6]\n",
      " [3 6 9]]\n"
     ]
    }
   ],
   "source": [
    "outer = np.outer(x,y)\n",
    "print(outer) ## here R1 of x is multiply by 1 that is first element of y\n",
    "            ## here R2 of x is multiply by 2 that is second element of y\n",
    "            ## here R3 of x is multiply by 3 that is third element of y\n",
    "             "
   ]
  },
  {
   "cell_type": "markdown",
   "id": "bb86dc7e",
   "metadata": {},
   "source": [
    "# 5.Random matrices"
   ]
  },
  {
   "cell_type": "code",
   "execution_count": 71,
   "id": "684ea2d2",
   "metadata": {},
   "outputs": [
    {
     "name": "stdout",
     "output_type": "stream",
     "text": [
      "[[0.35858025 0.00125073 0.1761735 ]\n",
      " [0.95228383 0.49336385 0.4557996 ]\n",
      " [0.55310239 0.14422013 0.99809302]\n",
      " [0.41744825 0.54170695 0.13244892]\n",
      " [0.20711864 0.95621042 0.9637111 ]]\n"
     ]
    }
   ],
   "source": [
    "A = np.random.rand(5,3)\n",
    "print(A) ## here it produce 5 rows & 3 coloumn with random number,all elements belongs to 0 & 1"
   ]
  },
  {
   "cell_type": "code",
   "execution_count": 72,
   "id": "fb188ee7",
   "metadata": {},
   "outputs": [
    {
     "name": "stdout",
     "output_type": "stream",
     "text": [
      "[0.48521855 0.77084473 0.36995097 0.69510689 0.91575651] <class 'numpy.ndarray'> (5,)\n"
     ]
    }
   ],
   "source": [
    "x = np.random.rand(5)\n",
    "print(x,type(x),x.shape)"
   ]
  },
  {
   "cell_type": "code",
   "execution_count": 76,
   "id": "b674d0f7",
   "metadata": {},
   "outputs": [
    {
     "name": "stdout",
     "output_type": "stream",
     "text": [
      "[[36 75 69 82 41 93 40]\n",
      " [77  4 33 17 71 26 58]\n",
      " [33 81 67 70 29 23 73]\n",
      " [85 94 65 61 64  1 60]\n",
      " [76 32 27  8 76 32 46]\n",
      " [85 15 67 81 19 53 97]] (6, 7)\n"
     ]
    }
   ],
   "source": [
    "## for random integer\n",
    "x = np.random.randint(1,100,(6,7)) ## we use this formate\n",
    "                                    ##   x = np.random.randint(...,...,(...,...))\n",
    "                                                               #range#   #size#\n",
    "                                                                        \n",
    "print(x,x.shape)"
   ]
  },
  {
   "cell_type": "code",
   "execution_count": 80,
   "id": "71eb4625",
   "metadata": {},
   "outputs": [
    {
     "name": "stdout",
     "output_type": "stream",
     "text": [
      "[[-563  435 -973 -966  104  420 -111]\n",
      " [-760  964 -380  126  745 -957  313]\n",
      " [ 297  -78   72 -566  168 -593  610]\n",
      " [-250  410  755  540 -695  219  368]\n",
      " [-512 -133  239 -912 -637 -541  643]\n",
      " [ 899 -349  632 -569  334 -984 -752]]\n"
     ]
    }
   ],
   "source": [
    "x = np.random.randint(-1000,1000,(6,7))\n",
    "print(x)"
   ]
  },
  {
   "cell_type": "code",
   "execution_count": 93,
   "id": "678a935b",
   "metadata": {
    "scrolled": true
   },
   "outputs": [
    {
     "name": "stdout",
     "output_type": "stream",
     "text": [
      "[[358.1479644  345.68479897 740.28572415]\n",
      " [835.12258406 129.18814233 849.32119389]\n",
      " [862.8770299  625.38092489 841.34477649]\n",
      " [977.94915972 985.58421387 942.16653247]\n",
      " [391.37036375 236.07642624 579.23736707]]\n"
     ]
    }
   ],
   "source": [
    "A = np.random.rand(5,3)\n",
    "print(1000*A)"
   ]
  },
  {
   "cell_type": "markdown",
   "id": "634fb65f",
   "metadata": {},
   "source": [
    "# 6. Reshaping matrices"
   ]
  },
  {
   "cell_type": "code",
   "execution_count": 95,
   "id": "4e7da21b",
   "metadata": {},
   "outputs": [
    {
     "name": "stdout",
     "output_type": "stream",
     "text": [
      "[0.48766496 0.971786   0.32284072 0.31104435 0.6218953  0.83605551\n",
      " 0.83961658 0.28592009 0.65618294 0.74312521 0.48400839 0.4386364 ] <class 'numpy.ndarray'> (12,)\n"
     ]
    }
   ],
   "source": [
    "x = np.random.rand(12)\n",
    "print(x,type(x),x.shape)"
   ]
  },
  {
   "cell_type": "code",
   "execution_count": 99,
   "id": "f330f6ad",
   "metadata": {},
   "outputs": [
    {
     "name": "stdout",
     "output_type": "stream",
     "text": [
      "[[0.48766496 0.971786   0.32284072 0.31104435]\n",
      " [0.6218953  0.83605551 0.83961658 0.28592009]\n",
      " [0.65618294 0.74312521 0.48400839 0.4386364 ]]\n"
     ]
    }
   ],
   "source": [
    "# we want this 12 element of x to reshape in 3x4 matrix i.e, 3 rows & 4 coloumn\n",
    "y = np.reshape(x,(3,4))\n",
    "print(y)"
   ]
  },
  {
   "cell_type": "code",
   "execution_count": 102,
   "id": "b33c9ee1",
   "metadata": {},
   "outputs": [
    {
     "name": "stdout",
     "output_type": "stream",
     "text": [
      "[[[0.48766496 0.971786   0.32284072 0.31104435 0.6218953  0.83605551\n",
      "   0.83961658 0.28592009 0.65618294 0.74312521 0.48400839 0.4386364 ]]] (1, 1, 12)\n"
     ]
    }
   ],
   "source": [
    "x = np.array([x])\n",
    "print(x,x.shape)"
   ]
  },
  {
   "cell_type": "code",
   "execution_count": 103,
   "id": "1b12c164",
   "metadata": {},
   "outputs": [
    {
     "name": "stdout",
     "output_type": "stream",
     "text": [
      "[[0.00418233 0.54061961 0.66217677]\n",
      " [0.27003536 0.1000317  0.18919434]\n",
      " [0.64242461 0.37623913 0.24218288]\n",
      " [0.2642251  0.79313755 0.94500054]\n",
      " [0.92135978 0.48103411 0.5366595 ]] <class 'numpy.ndarray'> (5, 3)\n"
     ]
    }
   ],
   "source": [
    "A = np.random.rand(5,3)\n",
    "print(A, type(A),A.shape)"
   ]
  },
  {
   "cell_type": "code",
   "execution_count": 106,
   "id": "11201f19",
   "metadata": {},
   "outputs": [
    {
     "name": "stdout",
     "output_type": "stream",
     "text": [
      "\n",
      "[0.34976496 0.05208791 0.29194809 0.88342957 0.9224149 ]\n",
      "\n",
      "[[0.34976496]\n",
      " [0.05208791]\n",
      " [0.29194809]\n",
      " [0.88342957]\n",
      " [0.9224149 ]]\n"
     ]
    }
   ],
   "source": [
    "print('')\n",
    "\n",
    "x = np.random.rand(5)\n",
    "print(x)\n",
    "print('')\n",
    "y = np.reshape(x,(5,1))\n",
    "print(y)"
   ]
  },
  {
   "cell_type": "code",
   "execution_count": 108,
   "id": "cf46fed7",
   "metadata": {},
   "outputs": [
    {
     "name": "stdout",
     "output_type": "stream",
     "text": [
      "[[0.35394729 0.89038457 1.01194173]\n",
      " [0.32212327 0.15211962 0.24128226]\n",
      " [0.93437271 0.66818723 0.53413098]\n",
      " [1.14765467 1.67656712 1.82843011]\n",
      " [1.84377469 1.40344901 1.4590744 ]]\n"
     ]
    }
   ],
   "source": [
    "print(A + y)"
   ]
  },
  {
   "cell_type": "markdown",
   "id": "cc6961b4",
   "metadata": {},
   "source": [
    "# 7.Combining(or stacking) matrices"
   ]
  },
  {
   "cell_type": "code",
   "execution_count": 109,
   "id": "1833bb21",
   "metadata": {},
   "outputs": [
    {
     "name": "stdout",
     "output_type": "stream",
     "text": [
      "[0.90016931 0.27415014 0.42739486]\n",
      "[0.90016931 0.27415014 0.42739486]\n"
     ]
    }
   ],
   "source": [
    "x = np.random.rand(3)\n",
    "print(x)\n",
    "y = np.random.rand(3)\n",
    "print(x)"
   ]
  },
  {
   "cell_type": "code",
   "execution_count": 111,
   "id": "e16205c3",
   "metadata": {},
   "outputs": [
    {
     "name": "stdout",
     "output_type": "stream",
     "text": [
      "[[0.90016931 0.27415014 0.42739486]\n",
      " [0.13961785 0.45993103 0.44906157]] (2, 3)\n"
     ]
    }
   ],
   "source": [
    "z = np.vstack((x,y)) # vstack means vertical stacking\n",
    "print(z,z.shape)"
   ]
  },
  {
   "cell_type": "code",
   "execution_count": 114,
   "id": "c90482db",
   "metadata": {},
   "outputs": [
    {
     "name": "stdout",
     "output_type": "stream",
     "text": [
      "[0.90016931 0.27415014 0.42739486 0.13961785 0.45993103 0.44906157] (6,)\n"
     ]
    }
   ],
   "source": [
    "z = np.hstack((x,y))  # hstack means horizantal stacking\n",
    "print(z,z.shape)"
   ]
  },
  {
   "cell_type": "markdown",
   "id": "699d2cd3",
   "metadata": {},
   "source": [
    "<b>Exercise:</b> Create two arrays of size 3x5 intialized with random integer drawn from(-100,100) and vertically & horizontally them"
   ]
  },
  {
   "cell_type": "code",
   "execution_count": 132,
   "id": "fb04bbcd",
   "metadata": {},
   "outputs": [
    {
     "name": "stdout",
     "output_type": "stream",
     "text": [
      "[[  45   33   81   50   35]\n",
      " [  -3   84   90   92   37]\n",
      " [ -55   -7    3  -52  -47]\n",
      " [  95   35  -68   28  -30]\n",
      " [  47 -100  -68  -88  -19]\n",
      " [ -62   35  -92  -48  -55]]\n",
      "\n",
      "\n",
      "[[  45   33   81   50   35   95   35  -68   28  -30]\n",
      " [  -3   84   90   92   37   47 -100  -68  -88  -19]\n",
      " [ -55   -7    3  -52  -47  -62   35  -92  -48  -55]]\n"
     ]
    }
   ],
   "source": [
    "x1 = np.random.randint(-100,100,(3,5))\n",
    "x2 = np.random.randint(-100,100,(3,5))\n",
    "\n",
    "vx = np.vstack((x1,x2))\n",
    "hx = np.hstack((x1,x2))\n",
    "print(vx)\n",
    "print('\\n')\n",
    "print(hx)"
   ]
  },
  {
   "cell_type": "markdown",
   "id": "bde2b78b",
   "metadata": {},
   "source": [
    "# 8.Dimension and shape of NumPy arrays"
   ]
  },
  {
   "cell_type": "code",
   "execution_count": 116,
   "id": "21ea5768",
   "metadata": {},
   "outputs": [
    {
     "name": "stdout",
     "output_type": "stream",
     "text": [
      "2\n",
      "(5, 3)\n"
     ]
    }
   ],
   "source": [
    "A = np.random.rand(5,3)\n",
    "print(A.ndim)\n",
    "print(A.shape)"
   ]
  },
  {
   "cell_type": "code",
   "execution_count": 5,
   "id": "9dac98b6",
   "metadata": {},
   "outputs": [
    {
     "name": "stdout",
     "output_type": "stream",
     "text": [
      "4\n",
      "(5, 3, 10, 25)\n"
     ]
    }
   ],
   "source": [
    "x = np.random.rand(5,3,10,25)\n",
    "print(x.ndim)\n",
    "print(x.shape)"
   ]
  },
  {
   "cell_type": "code",
   "execution_count": 6,
   "id": "2d38f22f",
   "metadata": {},
   "outputs": [
    {
     "name": "stdout",
     "output_type": "stream",
     "text": [
      "[[[[6.61314727e-01 5.12773126e-01 4.38387496e-01 ... 9.38800160e-01\n",
      "    8.99069615e-01 8.73960953e-01]\n",
      "   [3.67326123e-01 6.27514447e-01 6.42216033e-01 ... 5.40231271e-01\n",
      "    1.63140778e-01 7.77297621e-01]\n",
      "   [4.04103990e-01 5.95715171e-01 3.16849003e-01 ... 7.18752061e-01\n",
      "    4.90749066e-01 2.70389866e-01]\n",
      "   ...\n",
      "   [9.14475580e-02 3.79062321e-01 2.27620421e-01 ... 5.95498752e-01\n",
      "    5.83828449e-01 2.03658472e-01]\n",
      "   [2.08195939e-01 9.17772520e-02 3.34425656e-02 ... 6.50110746e-01\n",
      "    3.02783030e-01 9.91244044e-02]\n",
      "   [6.94076778e-01 3.67365145e-01 6.03630117e-01 ... 7.48416458e-02\n",
      "    1.89376703e-01 3.64482121e-01]]\n",
      "\n",
      "  [[4.62520350e-01 8.00184851e-01 7.50918509e-01 ... 9.63426586e-01\n",
      "    3.69902031e-01 5.99991801e-01]\n",
      "   [4.83283770e-01 4.97850722e-01 5.99315615e-01 ... 4.25532282e-01\n",
      "    5.22241500e-01 3.45105240e-02]\n",
      "   [6.81085312e-01 1.63247783e-01 5.43360074e-01 ... 7.55140908e-01\n",
      "    3.17356638e-01 4.34051525e-01]\n",
      "   ...\n",
      "   [1.11154059e-01 4.49589198e-01 6.48495594e-02 ... 7.04414407e-01\n",
      "    8.22311320e-01 6.77104792e-01]\n",
      "   [7.80731471e-01 8.76537815e-01 6.14516644e-01 ... 1.59257956e-01\n",
      "    3.60436115e-01 3.47044685e-01]\n",
      "   [7.09261597e-01 8.25623449e-01 8.43315925e-02 ... 3.85309289e-01\n",
      "    7.01042495e-01 8.93797341e-01]]\n",
      "\n",
      "  [[2.63464246e-01 3.55304599e-01 9.52379599e-01 ... 1.66490095e-01\n",
      "    1.05997390e-01 2.89758241e-01]\n",
      "   [8.28282253e-01 9.67194694e-01 5.96203845e-01 ... 4.68475025e-01\n",
      "    6.44348125e-01 4.59885144e-01]\n",
      "   [7.41596117e-01 7.59566457e-01 8.53006341e-01 ... 3.87039442e-01\n",
      "    7.60455314e-01 9.73591005e-01]\n",
      "   ...\n",
      "   [6.23503115e-01 3.41814360e-01 3.00395311e-01 ... 6.21175686e-01\n",
      "    4.64992862e-01 7.90623586e-01]\n",
      "   [9.33983764e-01 4.55576088e-01 7.75481704e-01 ... 6.54126939e-01\n",
      "    3.68085565e-01 2.01043635e-01]\n",
      "   [1.43640694e-01 9.29622392e-01 8.38988415e-01 ... 5.88936571e-01\n",
      "    9.33856332e-01 9.58514160e-01]]]\n",
      "\n",
      "\n",
      " [[[3.17911954e-01 4.55370374e-01 2.62051884e-01 ... 6.66934930e-01\n",
      "    2.62991388e-01 9.53468214e-01]\n",
      "   [6.27938206e-01 1.16492201e-01 1.64030395e-01 ... 4.02226851e-01\n",
      "    5.47519706e-01 4.77047476e-01]\n",
      "   [2.60663927e-04 6.43274511e-01 6.46199333e-01 ... 2.42768160e-01\n",
      "    1.19828140e-01 4.01484913e-01]\n",
      "   ...\n",
      "   [2.50650833e-01 4.82557223e-01 8.75990532e-01 ... 5.37972357e-01\n",
      "    3.78448604e-01 1.99975702e-01]\n",
      "   [6.19461237e-01 4.93152040e-01 6.82211477e-01 ... 7.72147490e-01\n",
      "    9.60980152e-01 9.93524124e-01]\n",
      "   [8.90455348e-01 8.34332877e-01 8.73480442e-01 ... 4.75535270e-01\n",
      "    9.86424280e-01 2.64141061e-01]]\n",
      "\n",
      "  [[6.36667252e-01 2.96496262e-01 5.49629834e-01 ... 7.77664248e-01\n",
      "    4.99202752e-01 6.00723680e-02]\n",
      "   [2.98236549e-01 5.11794678e-01 6.75493701e-01 ... 8.35476038e-01\n",
      "    3.18431144e-01 3.88906122e-01]\n",
      "   [3.37668404e-01 2.32148538e-01 7.78749974e-01 ... 1.56198963e-01\n",
      "    8.17187754e-01 5.79059966e-01]\n",
      "   ...\n",
      "   [7.39690708e-01 4.08531043e-01 4.58934481e-01 ... 8.34604436e-01\n",
      "    5.49694640e-01 2.06840314e-01]\n",
      "   [1.93077589e-01 8.22783136e-01 5.50753223e-03 ... 5.15049036e-01\n",
      "    7.43719767e-01 2.71088200e-01]\n",
      "   [5.11086218e-01 8.22700401e-01 9.75145125e-01 ... 8.94249835e-01\n",
      "    3.14535109e-01 1.21727905e-01]]\n",
      "\n",
      "  [[9.89031174e-01 7.29353806e-01 6.36682439e-01 ... 5.67949605e-01\n",
      "    1.41337829e-01 5.20992821e-01]\n",
      "   [2.29682552e-01 2.63789060e-01 7.81994098e-01 ... 9.88100531e-01\n",
      "    4.26775743e-01 6.59128994e-02]\n",
      "   [9.17019913e-01 2.29609991e-01 9.41916184e-01 ... 2.12924085e-01\n",
      "    3.57992456e-01 6.03604534e-01]\n",
      "   ...\n",
      "   [6.32089429e-01 8.96016708e-01 7.10074642e-01 ... 7.75673754e-01\n",
      "    7.93440844e-01 8.21653141e-01]\n",
      "   [2.51833783e-01 7.23521606e-01 1.32428120e-01 ... 6.09354701e-01\n",
      "    4.65384910e-01 3.47764647e-01]\n",
      "   [5.50922905e-01 6.21335478e-01 2.84761666e-01 ... 6.68695601e-01\n",
      "    8.05527241e-01 5.63295167e-01]]]\n",
      "\n",
      "\n",
      " [[[6.22474940e-01 4.79422013e-01 9.64120012e-01 ... 8.21945389e-01\n",
      "    3.81367079e-01 9.81879438e-01]\n",
      "   [3.43180206e-02 4.69819830e-01 8.66102056e-01 ... 7.76951006e-01\n",
      "    7.82749673e-01 8.62467813e-02]\n",
      "   [6.47063954e-01 4.22964883e-01 8.47135398e-01 ... 4.22399435e-02\n",
      "    2.11732869e-01 5.63047563e-01]\n",
      "   ...\n",
      "   [6.31533534e-01 8.29664202e-02 5.29638047e-01 ... 7.66470006e-01\n",
      "    2.50500584e-01 2.39088495e-01]\n",
      "   [5.38698870e-01 5.29436948e-01 4.70512971e-01 ... 8.80056018e-01\n",
      "    4.46198868e-01 6.46838039e-01]\n",
      "   [4.20036282e-01 6.14236459e-01 3.32412107e-02 ... 5.45163625e-01\n",
      "    6.06751759e-01 1.10052457e-01]]\n",
      "\n",
      "  [[6.44309520e-02 5.75972737e-01 7.87961142e-02 ... 1.36102660e-01\n",
      "    5.56403714e-01 9.20597504e-01]\n",
      "   [5.09724888e-01 4.20049288e-01 7.08783748e-01 ... 7.27770223e-01\n",
      "    4.83147967e-01 3.96903109e-01]\n",
      "   [9.13881710e-01 5.01734285e-01 5.58585543e-01 ... 2.60689816e-01\n",
      "    4.61883751e-01 3.22090874e-01]\n",
      "   ...\n",
      "   [2.13219322e-01 2.08883745e-01 1.57945829e-01 ... 1.81831098e-02\n",
      "    7.67484522e-01 3.79439975e-01]\n",
      "   [5.53002026e-01 4.44904896e-01 7.26172136e-01 ... 4.50601490e-01\n",
      "    3.91535508e-01 8.92730741e-01]\n",
      "   [1.78314709e-01 6.28955448e-01 2.66327973e-01 ... 4.12323980e-01\n",
      "    3.77463544e-01 1.26822661e-01]]\n",
      "\n",
      "  [[5.63582069e-02 3.43225197e-01 6.99724018e-01 ... 3.03836564e-01\n",
      "    8.92773462e-01 5.38066404e-02]\n",
      "   [1.66237131e-01 1.37077533e-01 4.49508867e-01 ... 6.36970503e-01\n",
      "    3.59356110e-01 5.22136044e-01]\n",
      "   [5.83720708e-01 9.16906966e-01 2.80165118e-01 ... 4.64318229e-01\n",
      "    8.62422334e-01 2.12596720e-01]\n",
      "   ...\n",
      "   [6.43009091e-01 5.38691098e-02 6.42783268e-01 ... 9.17881047e-01\n",
      "    4.30694115e-01 5.38096179e-01]\n",
      "   [7.90500859e-01 1.12835664e-01 2.25418402e-01 ... 3.92255341e-01\n",
      "    5.45865794e-01 6.06496240e-01]\n",
      "   [6.75106055e-01 9.26009277e-01 6.86588841e-01 ... 7.27121753e-01\n",
      "    2.00354062e-01 2.83988909e-01]]]\n",
      "\n",
      "\n",
      " [[[3.20839368e-01 6.12728795e-01 4.08441913e-01 ... 7.46519023e-01\n",
      "    7.57706319e-01 3.24918710e-01]\n",
      "   [3.06117991e-01 5.06444858e-01 1.24137193e-02 ... 7.15227829e-01\n",
      "    2.40331373e-01 7.76668524e-01]\n",
      "   [4.05786541e-02 4.78598210e-03 3.46709072e-01 ... 2.96806367e-01\n",
      "    8.02151631e-02 2.41394846e-01]\n",
      "   ...\n",
      "   [5.65893022e-01 2.73007946e-01 7.03516491e-01 ... 2.88154853e-01\n",
      "    4.62661641e-01 8.84112135e-02]\n",
      "   [5.10524645e-01 8.62744559e-01 9.69513216e-01 ... 7.45971070e-01\n",
      "    3.12871764e-01 5.14083246e-01]\n",
      "   [2.29833423e-01 4.35375828e-01 8.67734669e-01 ... 2.15210800e-01\n",
      "    6.24369784e-01 5.90446426e-02]]\n",
      "\n",
      "  [[2.19656348e-01 7.92419633e-01 3.57712297e-01 ... 2.09504274e-02\n",
      "    8.70884605e-01 4.69040088e-01]\n",
      "   [7.05846160e-01 1.68145680e-01 4.47984018e-01 ... 4.57699171e-01\n",
      "    3.90494623e-01 7.56114632e-01]\n",
      "   [9.74357885e-01 6.17840868e-01 8.06342616e-01 ... 8.18270764e-01\n",
      "    1.87333105e-04 4.75453724e-02]\n",
      "   ...\n",
      "   [8.35208097e-01 3.70935576e-01 3.60437109e-01 ... 7.06154682e-01\n",
      "    8.36275716e-01 6.53192489e-01]\n",
      "   [6.45898766e-01 9.22986782e-01 5.31689578e-01 ... 6.33018314e-01\n",
      "    7.28395393e-01 3.21804242e-01]\n",
      "   [9.52832984e-01 5.88290993e-01 6.43651660e-01 ... 9.44963843e-01\n",
      "    3.97284294e-01 8.72885357e-01]]\n",
      "\n",
      "  [[8.56492252e-01 9.13712639e-01 1.78563373e-01 ... 9.33298762e-01\n",
      "    3.39842519e-01 1.57550294e-01]\n",
      "   [7.36864840e-01 7.04240333e-01 9.77516539e-01 ... 5.22083137e-01\n",
      "    1.75998104e-01 8.85718520e-01]\n",
      "   [9.40917011e-01 6.59271001e-01 5.64239585e-01 ... 2.91073065e-01\n",
      "    1.30048777e-01 3.86154080e-01]\n",
      "   ...\n",
      "   [6.03558698e-01 5.83714740e-01 3.80041345e-01 ... 7.55387949e-01\n",
      "    1.70549624e-01 7.81361602e-01]\n",
      "   [4.74544944e-01 4.01274112e-01 8.26846055e-01 ... 3.36204262e-01\n",
      "    6.30796811e-02 3.98952432e-01]\n",
      "   [7.95880325e-01 4.21220382e-01 5.11122003e-02 ... 7.24182382e-01\n",
      "    6.84277079e-01 3.23041698e-01]]]\n",
      "\n",
      "\n",
      " [[[1.88534068e-01 8.16485182e-01 3.24140347e-01 ... 3.13693072e-01\n",
      "    7.20247380e-01 7.34414501e-01]\n",
      "   [4.60850958e-02 6.07909765e-01 4.14740836e-01 ... 7.17145757e-01\n",
      "    4.20466460e-01 6.56761617e-01]\n",
      "   [6.66522684e-01 7.45859288e-01 2.61246413e-02 ... 6.54859847e-01\n",
      "    8.01146928e-01 4.99240654e-01]\n",
      "   ...\n",
      "   [4.07251477e-01 8.09127510e-01 5.75169327e-01 ... 2.71148633e-01\n",
      "    3.74380733e-01 3.42765619e-01]\n",
      "   [5.53558034e-02 2.21461944e-01 2.70271579e-01 ... 7.31026436e-01\n",
      "    5.23066303e-01 8.02724682e-01]\n",
      "   [1.13998365e-01 9.27805845e-01 8.60187462e-01 ... 7.46211898e-01\n",
      "    5.77400687e-01 9.27159107e-01]]\n",
      "\n",
      "  [[9.45937521e-01 8.75594374e-01 4.81279127e-01 ... 7.89686272e-01\n",
      "    5.16530028e-01 2.02498568e-01]\n",
      "   [6.17861131e-01 4.30437695e-01 6.13213059e-01 ... 5.28395098e-01\n",
      "    2.22674281e-01 2.25963156e-01]\n",
      "   [3.48532158e-01 1.38127057e-01 4.78791564e-01 ... 6.23144043e-01\n",
      "    8.10400329e-01 8.53962882e-01]\n",
      "   ...\n",
      "   [9.99382411e-01 8.41306912e-01 3.62953335e-01 ... 7.57397923e-01\n",
      "    3.68186618e-01 6.06820441e-01]\n",
      "   [7.23807860e-02 7.12132395e-01 5.81385582e-01 ... 5.39243012e-01\n",
      "    7.53500288e-01 7.78922063e-01]\n",
      "   [8.53451157e-01 1.58194457e-01 1.74054134e-01 ... 7.90713984e-01\n",
      "    2.21831382e-01 5.44610212e-01]]\n",
      "\n",
      "  [[2.94588492e-01 3.95080196e-01 8.23458931e-01 ... 6.48696725e-01\n",
      "    4.54533858e-01 2.37076749e-01]\n",
      "   [9.98489962e-01 1.41332092e-01 8.70566157e-01 ... 1.75979491e-01\n",
      "    5.87572687e-02 1.14852291e-01]\n",
      "   [1.52729127e-01 5.75791770e-01 7.85523126e-01 ... 3.30554945e-01\n",
      "    3.03522359e-01 4.56542442e-01]\n",
      "   ...\n",
      "   [9.04077429e-01 2.57469432e-01 6.71694291e-01 ... 2.20869777e-01\n",
      "    4.12655865e-01 3.71651986e-01]\n",
      "   [8.08754556e-01 3.95851893e-01 3.25211130e-01 ... 8.29789466e-01\n",
      "    7.55024106e-01 2.95503681e-01]\n",
      "   [3.85615342e-01 9.82392175e-01 8.29542439e-01 ... 2.89285119e-01\n",
      "    7.42846855e-01 9.97339076e-01]]]]\n"
     ]
    }
   ],
   "source": [
    "print(x)"
   ]
  },
  {
   "cell_type": "markdown",
   "id": "8866e23d",
   "metadata": {},
   "source": [
    "# 9.Special Matrices"
   ]
  },
  {
   "cell_type": "code",
   "execution_count": 9,
   "id": "851ad57f",
   "metadata": {},
   "outputs": [
    {
     "name": "stdout",
     "output_type": "stream",
     "text": [
      "[[1 2 3 4]] <class 'numpy.ndarray'> (1, 4)\n",
      "[1 2 3 4] <class 'numpy.ndarray'> (4,)\n"
     ]
    }
   ],
   "source": [
    "x = np.array([[1,2,3,4]])\n",
    "y = np.array(((1,2,3,4)))\n",
    "print(x,type(x),x.shape)\n",
    "print(y,type(y),y.shape)"
   ]
  },
  {
   "cell_type": "code",
   "execution_count": 11,
   "id": "efda67c6",
   "metadata": {},
   "outputs": [
    {
     "name": "stdout",
     "output_type": "stream",
     "text": [
      "[[1 2 3 4]\n",
      " [5 6 7 8]] <class 'numpy.ndarray'> (2, 4)\n",
      "[[1 2 3 4]\n",
      " [5 6 7 8]] <class 'numpy.ndarray'> (2, 4)\n"
     ]
    }
   ],
   "source": [
    "x = np.array([[1,2,3,4],[5,6,7,8]])\n",
    "y = np.array(((1,2,3,4),(5,6,7,8)))\n",
    "print(x,type(x),x.shape)\n",
    "print(y,type(y),y.shape)"
   ]
  },
  {
   "cell_type": "code",
   "execution_count": 12,
   "id": "c13fbc5d",
   "metadata": {},
   "outputs": [
    {
     "name": "stdout",
     "output_type": "stream",
     "text": [
      "[[0 0]\n",
      " [0 0]\n",
      " [0 0]]\n"
     ]
    }
   ],
   "source": [
    "print(np.zeros((3,2),dtype=int))"
   ]
  },
  {
   "cell_type": "code",
   "execution_count": 19,
   "id": "f669205b",
   "metadata": {},
   "outputs": [
    {
     "name": "stdout",
     "output_type": "stream",
     "text": [
      "[[0. 0.]\n",
      " [0. 0.]\n",
      " [0. 0.]]\n"
     ]
    }
   ],
   "source": [
    "zf = np.zeros((3,2)) ## if we not defined data type so it is automatic in float\n",
    "print(zf)"
   ]
  },
  {
   "cell_type": "code",
   "execution_count": 20,
   "id": "c52ff3a8",
   "metadata": {},
   "outputs": [
    {
     "name": "stdout",
     "output_type": "stream",
     "text": [
      "[[0 0]\n",
      " [0 0]\n",
      " [0 0]]\n"
     ]
    }
   ],
   "source": [
    "zi = np.zeros((3,2),dtype=int)\n",
    "print(zi)"
   ]
  },
  {
   "cell_type": "code",
   "execution_count": 21,
   "id": "9caca60a",
   "metadata": {},
   "outputs": [
    {
     "name": "stdout",
     "output_type": "stream",
     "text": [
      "<class 'numpy.ndarray'> <class 'numpy.ndarray'> float64 int32\n"
     ]
    }
   ],
   "source": [
    "print(type(zf),type(zi),zf.dtype,zi.dtype) ## gere zf.dtype & zi.dtype is member of numpy not a comment"
   ]
  },
  {
   "cell_type": "code",
   "execution_count": 23,
   "id": "8cd7f17e",
   "metadata": {},
   "outputs": [
    {
     "name": "stdout",
     "output_type": "stream",
     "text": [
      "[[1. 1. 1.]\n",
      " [1. 1. 1.]]\n"
     ]
    }
   ],
   "source": [
    "print(np.ones((2,3)))"
   ]
  },
  {
   "cell_type": "code",
   "execution_count": 26,
   "id": "7f61602c",
   "metadata": {},
   "outputs": [
    {
     "name": "stdout",
     "output_type": "stream",
     "text": [
      "[[1 1 1 1 1 1]\n",
      " [1 1 1 1 1 1]\n",
      " [1 1 1 1 1 1]\n",
      " [1 1 1 1 1 1]\n",
      " [1 1 1 1 1 1]]\n"
     ]
    }
   ],
   "source": [
    "print(np.ones((5,6),dtype=int))"
   ]
  },
  {
   "cell_type": "code",
   "execution_count": 45,
   "id": "23118d42",
   "metadata": {
    "scrolled": true
   },
   "outputs": [
    {
     "name": "stdout",
     "output_type": "stream",
     "text": [
      "[[1. 0. 0. 0. 0. 0.]\n",
      " [0. 1. 0. 0. 0. 0.]\n",
      " [0. 0. 1. 0. 0. 0.]\n",
      " [0. 0. 0. 1. 0. 0.]\n",
      " [0. 0. 0. 0. 1. 0.]\n",
      " [0. 0. 0. 0. 0. 1.]]\n"
     ]
    }
   ],
   "source": [
    "print(np.eye(6))"
   ]
  },
  {
   "cell_type": "code",
   "execution_count": 3,
   "id": "b4171e50",
   "metadata": {},
   "outputs": [],
   "source": [
    "import numpy as np"
   ]
  },
  {
   "cell_type": "code",
   "execution_count": 5,
   "id": "e0eeaf24",
   "metadata": {},
   "outputs": [
    {
     "data": {
      "text/plain": [
       "matrix([[1, 0, 0, 0, 0, 0],\n",
       "        [0, 1, 0, 0, 0, 0],\n",
       "        [0, 0, 1, 0, 0, 0],\n",
       "        [0, 0, 0, 1, 0, 0],\n",
       "        [0, 0, 0, 0, 1, 0],\n",
       "        [0, 0, 0, 0, 0, 1]])"
      ]
     },
     "execution_count": 5,
     "metadata": {},
     "output_type": "execute_result"
    }
   ],
   "source": [
    "np.matrix(np.eye(6),int)"
   ]
  },
  {
   "cell_type": "code",
   "execution_count": 34,
   "id": "6ee73f29",
   "metadata": {},
   "outputs": [
    {
     "name": "stdout",
     "output_type": "stream",
     "text": [
      "[0, 1, 2, 3, 4, 5, 6, 7, 8]\n"
     ]
    }
   ],
   "source": [
    "x = list(range(9))\n",
    "print(x)"
   ]
  },
  {
   "cell_type": "code",
   "execution_count": 36,
   "id": "f03fb5e7",
   "metadata": {},
   "outputs": [
    {
     "name": "stdout",
     "output_type": "stream",
     "text": [
      "[0, 2, 4, 6, 8]\n"
     ]
    }
   ],
   "source": [
    "x = list(range(0,9,2))\n",
    "print(x)"
   ]
  },
  {
   "cell_type": "code",
   "execution_count": 41,
   "id": "edb3b1ea",
   "metadata": {},
   "outputs": [
    {
     "name": "stdout",
     "output_type": "stream",
     "text": [
      "[0 2 4 6 8] 1 (5,) <class 'numpy.ndarray'> int32\n"
     ]
    }
   ],
   "source": [
    "A =  np.arange(0,9,2)\n",
    "print(A, A.ndim, A.shape, type(A), A.dtype)"
   ]
  },
  {
   "cell_type": "code",
   "execution_count": 40,
   "id": "23010721",
   "metadata": {},
   "outputs": [
    {
     "name": "stdout",
     "output_type": "stream",
     "text": [
      "[[0 1 2]\n",
      " [3 4 5]\n",
      " [6 7 8]]\n"
     ]
    }
   ],
   "source": [
    "A = np.arange(9)\n",
    "B = np.reshape(A,(3,3))\n",
    "print(B)"
   ]
  },
  {
   "cell_type": "markdown",
   "id": "8e2c8a75",
   "metadata": {},
   "source": [
    "<b>Exercise:</b>use np.arange() function to create an array of size 4x2 where the elements will start from 0 to 14 (with step size 2) in row major order"
   ]
  },
  {
   "cell_type": "code",
   "execution_count": 50,
   "id": "4a15c048",
   "metadata": {},
   "outputs": [
    {
     "name": "stdout",
     "output_type": "stream",
     "text": [
      "[[ 0  2]\n",
      " [ 4  6]\n",
      " [ 8 10]\n",
      " [12 14]]\n"
     ]
    }
   ],
   "source": [
    "a = np.arange(0,15,2)\n",
    "b = np.reshape(a,(4,2))\n",
    "print(b)"
   ]
  },
  {
   "cell_type": "markdown",
   "id": "8078bcdf",
   "metadata": {},
   "source": [
    "# 10.Nupy array operations: max, argmax, min, argmin, sort, arrgsort"
   ]
  },
  {
   "cell_type": "code",
   "execution_count": 51,
   "id": "9ab3684c",
   "metadata": {},
   "outputs": [
    {
     "name": "stdout",
     "output_type": "stream",
     "text": [
      "[20 55 48 39  5 16 74 80 24  2 22 61 51 39 33]\n"
     ]
    }
   ],
   "source": [
    "# x = np.array([5,4,1,8,7,3,9,2,6])\n",
    "x = np.random.randint(0,100,15)\n",
    "print(x)"
   ]
  },
  {
   "cell_type": "code",
   "execution_count": 53,
   "id": "d103dbd0",
   "metadata": {},
   "outputs": [
    {
     "name": "stdout",
     "output_type": "stream",
     "text": [
      "80\n"
     ]
    }
   ],
   "source": [
    "print(np.max(x))"
   ]
  },
  {
   "cell_type": "code",
   "execution_count": 55,
   "id": "27168505",
   "metadata": {},
   "outputs": [
    {
     "name": "stdout",
     "output_type": "stream",
     "text": [
      "7\n"
     ]
    }
   ],
   "source": [
    "print(np.argmax(x))  ## here argmax means index of maximum of number"
   ]
  },
  {
   "cell_type": "code",
   "execution_count": 56,
   "id": "448e0d2f",
   "metadata": {},
   "outputs": [
    {
     "name": "stdout",
     "output_type": "stream",
     "text": [
      "2\n",
      "9\n"
     ]
    }
   ],
   "source": [
    "print(np.min(x))\n",
    "print(np.argmin(x))"
   ]
  },
  {
   "cell_type": "code",
   "execution_count": 57,
   "id": "534da8b0",
   "metadata": {},
   "outputs": [
    {
     "name": "stdout",
     "output_type": "stream",
     "text": [
      "[ 2  5 16 20 22 24 33 39 39 48 51 55 61 74 80]\n",
      "[ 9  4  5  0 10  8 14  3 13  2 12  1 11  6  7]\n"
     ]
    }
   ],
   "source": [
    "print(np.sort(x))  ## np.sort() function arrange in asscending order\n",
    "print(np.argsort(x))  ## in this it shows the index of each element"
   ]
  },
  {
   "cell_type": "markdown",
   "id": "3cc8a7cf",
   "metadata": {},
   "source": [
    "<b>Exercise:</b>Geenerate an 1D array with 20 element randomly initialized with the numbers in [0,15]. Create another 1D array with 20 elements randomly initialized with the number in [0,1].Sort A and apply the sorted indices on B"
   ]
  },
  {
   "cell_type": "code",
   "execution_count": 77,
   "id": "c375ec96",
   "metadata": {},
   "outputs": [
    {
     "name": "stdout",
     "output_type": "stream",
     "text": [
      "[ 9 10  3  9  1 14 10  2  3 13 10  3 10  3  1 11 14 10  8  1] [0.75811842 0.0079295  0.78657042 0.65527826 0.26133313 0.70378719\n",
      " 0.2791531  0.15491662 0.9754756  0.2405856  0.48647391 0.34906386\n",
      " 0.81880664 0.11998965 0.71676984 0.0612113  0.01392109 0.60746838\n",
      " 0.44730376 0.11502221]\n",
      "[19 14  4  7  2 13 11  8 18  0  3 10 12  1 17  6 15  9  5 16]\n",
      "[ 1 16 15 19 13  7  9  4  6 11 18 10 17  3  5 14  0  2 12  8]\n"
     ]
    }
   ],
   "source": [
    "A = np.random.randint(0,15,20)\n",
    "\n",
    "\n",
    "B = np.random.rand(20)\n",
    "print(A,B)\n",
    "ind = np.argsort(A)\n",
    "print(ind)\n",
    "print(np.argsort(B))"
   ]
  },
  {
   "cell_type": "code",
   "execution_count": 78,
   "id": "62c96db1",
   "metadata": {},
   "outputs": [
    {
     "name": "stdout",
     "output_type": "stream",
     "text": [
      "[0.75811842 0.0079295  0.78657042 0.65527826 0.26133313 0.70378719\n",
      " 0.2791531  0.15491662 0.9754756  0.2405856  0.48647391 0.34906386\n",
      " 0.81880664 0.11998965 0.71676984 0.0612113  0.01392109 0.60746838\n",
      " 0.44730376 0.11502221]\n",
      "[0.11502221 0.71676984 0.26133313 0.15491662 0.78657042 0.11998965\n",
      " 0.34906386 0.9754756  0.44730376 0.75811842 0.65527826 0.48647391\n",
      " 0.81880664 0.0079295  0.60746838 0.2791531  0.0612113  0.2405856\n",
      " 0.70378719 0.01392109]\n"
     ]
    }
   ],
   "source": [
    "print(B)\n",
    "B1 = B[ind]\n",
    "print(B1)"
   ]
  },
  {
   "cell_type": "code",
   "execution_count": 80,
   "id": "65a59996",
   "metadata": {},
   "outputs": [
    {
     "name": "stdout",
     "output_type": "stream",
     "text": [
      "[[150  91 136  87 158]\n",
      " [109  16  42 202  61]\n",
      " [176  58 151 100 186]\n",
      " [175 149 197 145  13]\n",
      " [143 170  92 110  86]]\n"
     ]
    }
   ],
   "source": [
    "temp = np.random.randint(1, 205, (5,5))\n",
    "print(temp)"
   ]
  },
  {
   "cell_type": "code",
   "execution_count": 83,
   "id": "d59f2cf0",
   "metadata": {},
   "outputs": [
    {
     "name": "stdout",
     "output_type": "stream",
     "text": [
      "13\n"
     ]
    }
   ],
   "source": [
    "print(temp[3,4]) ## element of third row & fourth coloumn we can also do as print(temp[3][4])"
   ]
  },
  {
   "cell_type": "code",
   "execution_count": 88,
   "id": "183e25d9",
   "metadata": {},
   "outputs": [
    {
     "name": "stdout",
     "output_type": "stream",
     "text": [
      "86\n"
     ]
    }
   ],
   "source": [
    "print(temp[4][4])"
   ]
  },
  {
   "cell_type": "code",
   "execution_count": 90,
   "id": "2d8780fa",
   "metadata": {},
   "outputs": [
    {
     "name": "stdout",
     "output_type": "stream",
     "text": [
      "150\n"
     ]
    }
   ],
   "source": [
    "print(temp[0,0])"
   ]
  },
  {
   "cell_type": "markdown",
   "id": "14e8469a",
   "metadata": {},
   "source": [
    "<b>Exercise:</b>Geenerate an 1D array with 20 element randomly initialized with the numbers in [0,15]. Create another 1D array with 20 elements randomly initialized with the number in [0,1].Sort A and apply the sorted indices on B\n",
    "\n",
    "<b>ANSWER</b> is following"
   ]
  },
  {
   "cell_type": "code",
   "execution_count": 131,
   "id": "e21602e1",
   "metadata": {},
   "outputs": [
    {
     "name": "stdout",
     "output_type": "stream",
     "text": [
      "[[ 1 14 10 12]\n",
      " [11 11 10 11]\n",
      " [ 2  2 10 12]] [[0.47257139 0.22929844 0.24381897 0.00240265]\n",
      " [0.5307168  0.58276072 0.16945129 0.09362883]\n",
      " [0.72367988 0.88767477 0.96714363 0.67164305]]\n",
      "[[ 1 10 12 14]\n",
      " [10 11 11 11]\n",
      " [ 2  2 10 12]] [[0 2 3 1]\n",
      " [2 0 1 3]\n",
      " [0 1 2 3]]\n"
     ]
    }
   ],
   "source": [
    "A = np.random.randint(0,15,(3,4))\n",
    "B = np.random.rand(3,4)\n",
    "\n",
    "print(A,B)\n",
    "ind = np.argsort(A)\n",
    "print(np.sort(A), ind)"
   ]
  },
  {
   "cell_type": "code",
   "execution_count": 132,
   "id": "0be6dff4",
   "metadata": {},
   "outputs": [
    {
     "name": "stdout",
     "output_type": "stream",
     "text": [
      "[[0.47257139 0.22929844 0.24381897 0.00240265]\n",
      " [0.5307168  0.58276072 0.16945129 0.09362883]\n",
      " [0.72367988 0.88767477 0.96714363 0.67164305]]\n",
      "[[0.47257139 0.24381897 0.00240265 0.22929844]\n",
      " [0.16945129 0.5307168  0.58276072 0.09362883]\n",
      " [0.72367988 0.88767477 0.96714363 0.67164305]]\n"
     ]
    }
   ],
   "source": [
    "print(B)\n",
    "B2 = B\n",
    "B2[0,:] = B2[0,ind[0,:]]\n",
    "B2[1,:] = B2[1,ind[1,:]]\n",
    "B2[2,:] = B2[2,ind[2,:]]\n",
    "print(B2)"
   ]
  },
  {
   "cell_type": "code",
   "execution_count": 100,
   "id": "15ace086",
   "metadata": {},
   "outputs": [
    {
     "name": "stdout",
     "output_type": "stream",
     "text": [
      "[0.52855997 0.51037833 0.80871425 0.85125891 0.71685717 0.11011226\n",
      " 0.0425673  0.58651049 0.20273427 0.28011543]\n",
      "\n",
      "[0.51037833 0.80871425 0.85125891 0.71685717]\n"
     ]
    }
   ],
   "source": [
    "## Colon operator\n",
    "C = np.random.rand(10)\n",
    "print(C)\n",
    "print('')\n",
    "## I want to collect value of 1st indices to 5th indices\n",
    "print(C[1:5])"
   ]
  },
  {
   "cell_type": "code",
   "execution_count": 102,
   "id": "cfdca8dd",
   "metadata": {},
   "outputs": [
    {
     "name": "stdout",
     "output_type": "stream",
     "text": [
      "[0.52855997 0.51037833 0.80871425 0.85125891 0.71685717]\n"
     ]
    }
   ],
   "source": [
    "print(C[0:5])"
   ]
  },
  {
   "cell_type": "code",
   "execution_count": 104,
   "id": "a237d089",
   "metadata": {},
   "outputs": [
    {
     "name": "stdout",
     "output_type": "stream",
     "text": [
      "[0.11011226 0.0425673  0.58651049 0.20273427]\n"
     ]
    }
   ],
   "source": [
    "## I want to display from last TO UP TO 5 element\n",
    "print(C[5:-1])"
   ]
  },
  {
   "cell_type": "code",
   "execution_count": 106,
   "id": "d7f83f0f",
   "metadata": {},
   "outputs": [
    {
     "name": "stdout",
     "output_type": "stream",
     "text": [
      "[0.11011226]\n"
     ]
    }
   ],
   "source": [
    "print(C[5:-4])"
   ]
  },
  {
   "cell_type": "code",
   "execution_count": 112,
   "id": "f36cec20",
   "metadata": {},
   "outputs": [
    {
     "name": "stdout",
     "output_type": "stream",
     "text": [
      "[0.11011226 0.0425673  0.58651049 0.20273427 0.28011543]\n"
     ]
    }
   ],
   "source": [
    "print(C[5:]) ## I want to include last then -ve part is not required"
   ]
  },
  {
   "cell_type": "code",
   "execution_count": 114,
   "id": "64c8515d",
   "metadata": {},
   "outputs": [
    {
     "name": "stdout",
     "output_type": "stream",
     "text": [
      "[0.52855997 0.51037833 0.80871425 0.85125891 0.71685717 0.11011226\n",
      " 0.0425673  0.58651049 0.20273427 0.28011543]\n"
     ]
    }
   ],
   "source": [
    "## if we not specify any thiny thing except [:] then it means all the elements\n",
    "print(C[:])"
   ]
  },
  {
   "cell_type": "code",
   "execution_count": 125,
   "id": "4081cbdd",
   "metadata": {},
   "outputs": [
    {
     "name": "stdout",
     "output_type": "stream",
     "text": [
      "[[0.62023886 0.2728045  0.46285066 0.25287983 0.4418367 ]\n",
      " [0.38021074 0.22251086 0.02429507 0.44754196 0.41329275]\n",
      " [0.7500436  0.96418746 0.38440044 0.5438151  0.68267954]]\n"
     ]
    }
   ],
   "source": [
    "C = np.random.rand(3,5)\n",
    "print(C)"
   ]
  },
  {
   "cell_type": "code",
   "execution_count": 127,
   "id": "24b25058",
   "metadata": {},
   "outputs": [
    {
     "name": "stdout",
     "output_type": "stream",
     "text": [
      "[[0.22251086 0.02429507 0.44754196]\n",
      " [0.96418746 0.38440044 0.5438151 ]]\n"
     ]
    }
   ],
   "source": [
    "## I WANT TO DISPLAY FROM 2ND COLOUMN TO 4TH COLOUMN AND UP TO 2ND ROW\n",
    "print(C[1:3,1:4])"
   ]
  },
  {
   "cell_type": "code",
   "execution_count": 129,
   "id": "13651c8a",
   "metadata": {},
   "outputs": [
    {
     "name": "stdout",
     "output_type": "stream",
     "text": [
      "[[0.38021074 0.22251086 0.02429507 0.44754196 0.41329275]\n",
      " [0.7500436  0.96418746 0.38440044 0.5438151  0.68267954]]\n"
     ]
    }
   ],
   "source": [
    "print(C[1:3, :]) ## IF WE NOT SPECIFY THE COLOUMN THEN ALL COLOUMN WILL SHOW"
   ]
  },
  {
   "cell_type": "code",
   "execution_count": 115,
   "id": "7727e12a",
   "metadata": {},
   "outputs": [
    {
     "name": "stdout",
     "output_type": "stream",
     "text": [
      "[[0.75034744 0.46385455 0.0750665  0.32396706 0.27984754]\n",
      " [0.59438053 0.39955364 0.33385654 0.40440221 0.21782805]\n",
      " [0.62119248 0.3584205  0.38771718 0.96272451 0.85682968]]\n",
      "[[0.59438053 0.39955364 0.33385654 0.40440221 0.21782805]\n",
      " [0.62119248 0.3584205  0.38771718 0.96272451 0.85682968]]\n",
      "[]\n",
      "[[0.75034744 0.46385455 0.0750665  0.32396706 0.27984754]\n",
      " [0.59438053 0.39955364 0.33385654 0.40440221 0.21782805]\n",
      " [0.62119248 0.3584205  0.38771718 0.96272451 0.85682968]]\n"
     ]
    }
   ],
   "source": [
    "print(C[5:])\n",
    "print(C[:])"
   ]
  },
  {
   "cell_type": "markdown",
   "id": "79a174e0",
   "metadata": {},
   "source": [
    "# 11.Statistical operations: mean, var, std....."
   ]
  },
  {
   "cell_type": "code",
   "execution_count": 135,
   "id": "686dddc8",
   "metadata": {},
   "outputs": [
    {
     "name": "stdout",
     "output_type": "stream",
     "text": [
      "5.0\n",
      "6.666666666666667\n",
      "2.581988897471611\n"
     ]
    }
   ],
   "source": [
    "x = np.array([5,4,1,8,7,3,9,2,6])\n",
    "\n",
    "print(np.mean(x))\n",
    "print(np.var(x))\n",
    "print(np.std(x))\n"
   ]
  },
  {
   "cell_type": "markdown",
   "id": "e4d7aac1",
   "metadata": {},
   "source": [
    "# 12.Boolean Element-Wise operations"
   ]
  },
  {
   "cell_type": "code",
   "execution_count": 136,
   "id": "7b6b6b02",
   "metadata": {},
   "outputs": [
    {
     "name": "stdout",
     "output_type": "stream",
     "text": [
      "[[0.21509081 0.19342713 0.93589668]\n",
      " [0.19361768 0.11788665 0.81878875]\n",
      " [0.79213476 0.18968998 0.21598902]]\n"
     ]
    }
   ],
   "source": [
    "x = np.random.rand(3,3)\n",
    "print(x)"
   ]
  },
  {
   "cell_type": "code",
   "execution_count": 138,
   "id": "74222c8b",
   "metadata": {},
   "outputs": [
    {
     "name": "stdout",
     "output_type": "stream",
     "text": [
      "[[False False  True]\n",
      " [False False  True]\n",
      " [ True False False]] bool\n"
     ]
    }
   ],
   "source": [
    "y = (x>0.5)\n",
    "print(y,y.dtype)"
   ]
  },
  {
   "cell_type": "code",
   "execution_count": 141,
   "id": "220a3c4b",
   "metadata": {},
   "outputs": [
    {
     "name": "stdout",
     "output_type": "stream",
     "text": [
      "0.8187887503956576\n"
     ]
    }
   ],
   "source": [
    "print(x[1,2])"
   ]
  },
  {
   "cell_type": "code",
   "execution_count": 142,
   "id": "f8508b96",
   "metadata": {},
   "outputs": [
    {
     "name": "stdout",
     "output_type": "stream",
     "text": [
      "True bool\n"
     ]
    }
   ],
   "source": [
    "w = (x[1,2]>0.5)\n",
    "print(w,w.dtype)"
   ]
  },
  {
   "cell_type": "markdown",
   "id": "561b8cdb",
   "metadata": {},
   "source": [
    "# 13.Boolean 'Mask'"
   ]
  },
  {
   "cell_type": "code",
   "execution_count": 150,
   "id": "5d9286db",
   "metadata": {},
   "outputs": [
    {
     "name": "stdout",
     "output_type": "stream",
     "text": [
      "[[0.07389749 0.61540765 0.09215065]\n",
      " [0.94169724 0.5869599  0.84255935]\n",
      " [0.09944109 0.48202064 0.12423508]]\n"
     ]
    }
   ],
   "source": [
    "x = np.random.rand(3,3)\n",
    "print(x)"
   ]
  },
  {
   "cell_type": "code",
   "execution_count": 153,
   "id": "c17dd031",
   "metadata": {},
   "outputs": [
    {
     "name": "stdout",
     "output_type": "stream",
     "text": [
      "[[False  True False]\n",
      " [ True  True  True]\n",
      " [False False False]]\n"
     ]
    }
   ],
   "source": [
    "mask = x > 0.5\n",
    "print(mask)"
   ]
  },
  {
   "cell_type": "code",
   "execution_count": 154,
   "id": "1b4a49d5",
   "metadata": {},
   "outputs": [
    {
     "name": "stdout",
     "output_type": "stream",
     "text": [
      "[0.61540765 0.94169724 0.5869599  0.84255935]\n"
     ]
    }
   ],
   "source": [
    "print(x[mask])"
   ]
  },
  {
   "cell_type": "code",
   "execution_count": 163,
   "id": "4890b8db",
   "metadata": {},
   "outputs": [
    {
     "name": "stdout",
     "output_type": "stream",
     "text": [
      "[[0.34406418 0.         0.77495407]\n",
      " [0.         0.         0.        ]\n",
      " [0.23604757 0.19740188 0.26329135]]\n"
     ]
    }
   ],
   "source": [
    "x[mask] = 0\n",
    "print(x) ## here the True value become zero"
   ]
  },
  {
   "cell_type": "code",
   "execution_count": 159,
   "id": "2fee8e41",
   "metadata": {},
   "outputs": [
    {
     "name": "stdout",
     "output_type": "stream",
     "text": [
      "[[0.0125856  0.37572542 0.81262027]\n",
      " [0.9864855  0.37500218 0.13711357]\n",
      " [0.95973348 0.48343168 0.46614591]]\n"
     ]
    }
   ],
   "source": [
    "y = np.random.rand(3,3)\n",
    "print(y)"
   ]
  },
  {
   "cell_type": "code",
   "execution_count": 164,
   "id": "c17e5df3",
   "metadata": {},
   "outputs": [
    {
     "name": "stdout",
     "output_type": "stream",
     "text": [
      "[0 1 1 1] [1 0 1 2]\n"
     ]
    }
   ],
   "source": [
    "r, c = np.where(x==0) # r FOR ROW & c FOR COLOUMN\n",
    "print(r,c)"
   ]
  },
  {
   "cell_type": "code",
   "execution_count": 166,
   "id": "f0fbb66f",
   "metadata": {},
   "outputs": [
    {
     "name": "stdout",
     "output_type": "stream",
     "text": [
      "1 1\n",
      "2 4\n",
      "3 9\n",
      "4 16\n",
      "5 25\n"
     ]
    }
   ],
   "source": [
    "x = np.array([1,2,3,4,5])\n",
    "\n",
    "def f(x):\n",
    "    return x**2\n",
    "\n",
    "for i in x:\n",
    "    print(i,f(i))"
   ]
  },
  {
   "cell_type": "code",
   "execution_count": 3,
   "id": "3010f25b",
   "metadata": {},
   "outputs": [],
   "source": [
    "x = np.array([\n",
    "   [[2,1],\n",
    "    [3,5]],\n",
    "   [[0,1],\n",
    "    [3,5]],\n",
    "   [[1,2],\n",
    "    [9,5]]\n",
    "])"
   ]
  },
  {
   "cell_type": "markdown",
   "id": "8c65ca89",
   "metadata": {},
   "source": [
    "# Some important operations in NumPy"
   ]
  },
  {
   "cell_type": "code",
   "execution_count": 17,
   "id": "6f49c7ae",
   "metadata": {},
   "outputs": [
    {
     "name": "stdout",
     "output_type": "stream",
     "text": [
      "[[7 5 3 7 4]\n",
      " [4 8 9 4 9]\n",
      " [5 2 6 7 4]\n",
      " [5 1 8 5 3]]\n"
     ]
    }
   ],
   "source": [
    "r2 = np.random.randint(1,10,(4,5))\n",
    "print(r2)"
   ]
  },
  {
   "cell_type": "code",
   "execution_count": 12,
   "id": "bc9a4e34",
   "metadata": {},
   "outputs": [
    {
     "name": "stdout",
     "output_type": "stream",
     "text": [
      "[[6.23042070e-307 4.67296746e-307 1.69121096e-306 6.23054293e-307\n",
      "  2.22526399e-307]\n",
      " [6.23053614e-307 7.56592338e-307 1.60216183e-306 7.56602523e-307\n",
      "  3.56043054e-307]\n",
      " [1.37961641e-306 2.22518251e-306 1.33511969e-306 3.11525958e-307\n",
      "  9.34593493e-307]\n",
      " [8.90104918e-307 1.69119602e-306 8.45606157e-307 1.42410974e-306\n",
      "  2.22522596e-306]]\n"
     ]
    }
   ],
   "source": [
    "print(np.empty((4,5)))  ## all its output is garbeg"
   ]
  },
  {
   "cell_type": "code",
   "execution_count": 6,
   "id": "58edc3f2",
   "metadata": {},
   "outputs": [
    {
     "name": "stdout",
     "output_type": "stream",
     "text": [
      "[[1011296453 1150021803 -529751619 -710496226          1]\n",
      " [   7536754 1903232307 1228390074 -608888445  919379183]\n",
      " [         1          0          0          0          1]\n",
      " [   7209071          0          0          1          3]]\n"
     ]
    }
   ],
   "source": [
    "y = np.empty_like(r2)  ## here like function define the size only\n",
    "print(y)"
   ]
  },
  {
   "cell_type": "code",
   "execution_count": 27,
   "id": "5aa61d0c",
   "metadata": {},
   "outputs": [
    {
     "name": "stdout",
     "output_type": "stream",
     "text": [
      "[[0 0 0 0 0]\n",
      " [0 0 0 0 0]\n",
      " [0 0 0 0 0]\n",
      " [0 0 0 0 0]]\n"
     ]
    }
   ],
   "source": [
    "y = np.zeros_like(r2)\n",
    "print(y)"
   ]
  },
  {
   "cell_type": "code",
   "execution_count": 24,
   "id": "d19112d3",
   "metadata": {},
   "outputs": [
    {
     "name": "stdout",
     "output_type": "stream",
     "text": [
      "[[1 1 1 1 1]\n",
      " [1 1 1 1 1]\n",
      " [1 1 1 1 1]\n",
      " [1 1 1 1 1]]\n"
     ]
    }
   ],
   "source": [
    "y = np.ones_like(r2)\n",
    "print(y)"
   ]
  },
  {
   "cell_type": "code",
   "execution_count": 25,
   "id": "31678008",
   "metadata": {},
   "outputs": [
    {
     "name": "stdout",
     "output_type": "stream",
     "text": [
      "[[1 1 1 1 1]\n",
      " [1 1 1 1 1]\n",
      " [1 1 1 1 1]\n",
      " [1 1 1 1 1]]\n"
     ]
    }
   ],
   "source": [
    "y = np.empty_like(r2)\n",
    "print(y)  ## here we shaw the GENERALLY empty_like() gives the  result like previous/just recently running cell"
   ]
  },
  {
   "cell_type": "code",
   "execution_count": 29,
   "id": "0c4367e1",
   "metadata": {},
   "outputs": [
    {
     "name": "stdout",
     "output_type": "stream",
     "text": [
      "[[0 0 0 0 0]\n",
      " [0 0 0 0 0]\n",
      " [0 0 0 0 0]\n",
      " [0 0 0 0 0]]\n"
     ]
    }
   ],
   "source": [
    "print(np.empty_like(r2))"
   ]
  },
  {
   "cell_type": "code",
   "execution_count": 35,
   "id": "7305df14",
   "metadata": {},
   "outputs": [
    {
     "name": "stdout",
     "output_type": "stream",
     "text": [
      "[[7 4 5 5]\n",
      " [5 8 2 1]\n",
      " [3 9 6 8]\n",
      " [7 4 7 5]\n",
      " [4 9 4 3]]\n",
      "\n",
      "[[7 4 5 5]\n",
      " [5 8 2 1]\n",
      " [3 9 6 8]\n",
      " [7 4 7 5]\n",
      " [4 9 4 3]]\n"
     ]
    }
   ],
   "source": [
    "print(r2.T) ## Transpose\n",
    "print('')\n",
    "print(np.transpose(r2))  \n",
    "\n",
    "## both are for transpose"
   ]
  },
  {
   "cell_type": "code",
   "execution_count": 37,
   "id": "dd7708d3",
   "metadata": {},
   "outputs": [
    {
     "name": "stdout",
     "output_type": "stream",
     "text": [
      "[[1 2]\n",
      " [3 4]]\n"
     ]
    }
   ],
   "source": [
    "x= np.array([[1,2],[3,4]])\n",
    "print(x)"
   ]
  },
  {
   "cell_type": "code",
   "execution_count": 39,
   "id": "8b7ab29b",
   "metadata": {},
   "outputs": [
    {
     "name": "stdout",
     "output_type": "stream",
     "text": [
      "10\n"
     ]
    }
   ],
   "source": [
    "print(np.sum(x))  ## Compute sum of all elements; print \"10\""
   ]
  },
  {
   "cell_type": "code",
   "execution_count": 41,
   "id": "d2db1132",
   "metadata": {},
   "outputs": [
    {
     "name": "stdout",
     "output_type": "stream",
     "text": [
      "[[73 17 41 81 27 85]\n",
      " [22 21  9 87 90 30]\n",
      " [27 20 95 54 14 69]\n",
      " [65 69 23 60 50 55]\n",
      " [ 7 35 83 77 90 26]]\n",
      "1502\n",
      "\n",
      "1502\n"
     ]
    }
   ],
   "source": [
    "x = np.random.randint(1,100,(5,6))\n",
    "print(x)\n",
    "print(np.sum(x))\n",
    "print('')\n",
    "print(x.sum()) ## here also inplace operation is present"
   ]
  },
  {
   "cell_type": "code",
   "execution_count": 43,
   "id": "529248e1",
   "metadata": {},
   "outputs": [
    {
     "name": "stdout",
     "output_type": "stream",
     "text": [
      "[194 162 251 359 271 265]\n"
     ]
    }
   ],
   "source": [
    "print(np.sum(x, axis=0))  ## Compute sum of each coloumn: prints \"[4,6]\" ; (axis=0 means coloumn wise)"
   ]
  },
  {
   "cell_type": "code",
   "execution_count": 44,
   "id": "6b22b4de",
   "metadata": {},
   "outputs": [
    {
     "name": "stdout",
     "output_type": "stream",
     "text": [
      "[324 259 279 322 318]\n"
     ]
    }
   ],
   "source": [
    "print(np.sum(x, axis=1))   ## Compute sum of each rows: prints \"[3,7]\"   ;  (axis=0 means coloumn wise)"
   ]
  },
  {
   "cell_type": "code",
   "execution_count": 47,
   "id": "91912870",
   "metadata": {},
   "outputs": [
    {
     "name": "stdout",
     "output_type": "stream",
     "text": [
      "[[8.54400375 4.12310563 6.40312424 9.         5.19615242 9.21954446]\n",
      " [4.69041576 4.58257569 3.         9.32737905 9.48683298 5.47722558]\n",
      " [5.19615242 4.47213595 9.74679434 7.34846923 3.74165739 8.30662386]\n",
      " [8.06225775 8.30662386 4.79583152 7.74596669 7.07106781 7.41619849]\n",
      " [2.64575131 5.91607978 9.11043358 8.77496439 9.48683298 5.09901951]]\n"
     ]
    }
   ],
   "source": [
    "print(np.sqrt(x)) ## it calculate the square root of each element in matrix x"
   ]
  },
  {
   "cell_type": "code",
   "execution_count": 49,
   "id": "89848f7a",
   "metadata": {},
   "outputs": [
    {
     "name": "stdout",
     "output_type": "stream",
     "text": [
      "[[1 2]\n",
      " [3 4]]\n",
      "[[5 6]\n",
      " [7 8]]\n"
     ]
    }
   ],
   "source": [
    "x = np.array([[1,2],[3,4]])\n",
    "y = np.array([[5,6],[7,8]])\n",
    "print(x)\n",
    "print(y)"
   ]
  },
  {
   "cell_type": "code",
   "execution_count": 51,
   "id": "6d9d8b71",
   "metadata": {},
   "outputs": [
    {
     "name": "stdout",
     "output_type": "stream",
     "text": [
      "[[ 6  8]\n",
      " [10 12]]\n"
     ]
    }
   ],
   "source": [
    "print(np.add(x,y)) ## it perform element wise operation"
   ]
  },
  {
   "cell_type": "code",
   "execution_count": 53,
   "id": "d97f6f47",
   "metadata": {},
   "outputs": [
    {
     "name": "stdout",
     "output_type": "stream",
     "text": [
      "[[ 6  8]\n",
      " [10 12]]\n"
     ]
    }
   ],
   "source": [
    "print(x+y) ## we cn also do this type"
   ]
  },
  {
   "cell_type": "code",
   "execution_count": 54,
   "id": "71f6d4b9",
   "metadata": {},
   "outputs": [
    {
     "name": "stdout",
     "output_type": "stream",
     "text": [
      "[[1 2]\n",
      " [3 4]]\n",
      "[[5 6]]\n"
     ]
    }
   ],
   "source": [
    "x = np.array([[1,2],[3,4]])\n",
    "y = np.array([[5,6]])\n",
    "print(x)\n",
    "print(y)"
   ]
  },
  {
   "cell_type": "code",
   "execution_count": 56,
   "id": "fe350135",
   "metadata": {},
   "outputs": [
    {
     "name": "stdout",
     "output_type": "stream",
     "text": [
      "[[ 6  8]\n",
      " [ 8 10]]\n"
     ]
    }
   ],
   "source": [
    "print(np.add(x,y)) ## row wise addition done"
   ]
  },
  {
   "cell_type": "code",
   "execution_count": 57,
   "id": "d93b8943",
   "metadata": {},
   "outputs": [
    {
     "name": "stdout",
     "output_type": "stream",
     "text": [
      "[[ 6  8]\n",
      " [ 8 10]]\n"
     ]
    }
   ],
   "source": [
    "print(x+y)"
   ]
  },
  {
   "cell_type": "code",
   "execution_count": 58,
   "id": "fec1f89d",
   "metadata": {},
   "outputs": [
    {
     "name": "stdout",
     "output_type": "stream",
     "text": [
      "[[21 22]\n",
      " [23 24]]\n"
     ]
    }
   ],
   "source": [
    "y = 20\n",
    "print(x+y) ## here 20 is added in all element of x"
   ]
  },
  {
   "cell_type": "code",
   "execution_count": 59,
   "id": "98bf1d79",
   "metadata": {},
   "outputs": [
    {
     "name": "stdout",
     "output_type": "stream",
     "text": [
      "[[21 22]\n",
      " [23 24]]\n"
     ]
    }
   ],
   "source": [
    "print(np.add(x,y))"
   ]
  },
  {
   "cell_type": "code",
   "execution_count": 60,
   "id": "b8215cb8",
   "metadata": {},
   "outputs": [
    {
     "name": "stdout",
     "output_type": "stream",
     "text": [
      "[[20 40]\n",
      " [60 80]]\n",
      "[[-19 -18]\n",
      " [-17 -16]]\n",
      "[[0.05 0.1 ]\n",
      " [0.15 0.2 ]]\n"
     ]
    }
   ],
   "source": [
    "print(x*y)\n",
    "\n",
    "print(x-y)\n",
    "print(x/y)"
   ]
  },
  {
   "cell_type": "code",
   "execution_count": 62,
   "id": "2e365322",
   "metadata": {},
   "outputs": [
    {
     "name": "stdout",
     "output_type": "stream",
     "text": [
      "[[1 2 3]\n",
      " [4 5 6]] (2, 3)\n",
      "[[10  4  6]\n",
      " [ 2  4  6]] (2, 3)\n"
     ]
    }
   ],
   "source": [
    "a2d = np.array([[1,2,3],[4,5,6]])\n",
    "b2d = np.array([[10,4,6],[2,4,6]])\n",
    "print(a2d, a2d.shape)\n",
    "print(b2d, b2d.shape)"
   ]
  },
  {
   "cell_type": "code",
   "execution_count": 66,
   "id": "929cafd6",
   "metadata": {},
   "outputs": [
    {
     "name": "stdout",
     "output_type": "stream",
     "text": [
      "(2, 3)\n"
     ]
    }
   ],
   "source": [
    "print(b2d.shape)"
   ]
  },
  {
   "cell_type": "code",
   "execution_count": 68,
   "id": "8db008f6",
   "metadata": {},
   "outputs": [
    {
     "name": "stdout",
     "output_type": "stream",
     "text": [
      "2\n"
     ]
    }
   ],
   "source": [
    "print(b2d.shape[0]) ##  if we place zero then it give no. of rows"
   ]
  },
  {
   "cell_type": "code",
   "execution_count": 69,
   "id": "f52f2b9d",
   "metadata": {},
   "outputs": [
    {
     "name": "stdout",
     "output_type": "stream",
     "text": [
      "3\n"
     ]
    }
   ],
   "source": [
    "print(b2d.shape[1]) ##  if we place zero then it give no. of rows"
   ]
  },
  {
   "cell_type": "code",
   "execution_count": 70,
   "id": "6a5e27fe",
   "metadata": {},
   "outputs": [
    {
     "name": "stdout",
     "output_type": "stream",
     "text": [
      "2 3\n"
     ]
    }
   ],
   "source": [
    "r, c = b2d.shape ## here we store the shape in two variable\n",
    "print(r,c)"
   ]
  },
  {
   "cell_type": "markdown",
   "id": "a93ac25e",
   "metadata": {},
   "source": [
    "<b>Exercise:</b>Define a random matrix of shape 7x8. Fetch the number of rows and coloumns programattically. Then manipulate each element of the matrix with following formula: x = sqrt((x+5)/10), x refers to each element of the matri."
   ]
  },
  {
   "cell_type": "code",
   "execution_count": 74,
   "id": "f983e276",
   "metadata": {},
   "outputs": [
    {
     "name": "stdout",
     "output_type": "stream",
     "text": [
      "[[17 14 29 37 45 11 41  7]\n",
      " [26 37 45 42 48 48 30  7]\n",
      " [27 15  4 25 24 23 20 18]\n",
      " [ 1 13 22 39 17 35  1 20]\n",
      " [ 3  2 41  9 44  2  5  4]\n",
      " [37 41 27 26 18 24 31 11]\n",
      " [35 15 39  1 41 34 41 38]]\n",
      "7 8\n",
      "[[1 1 1 2 2 1 2 1]\n",
      " [1 2 2 2 2 2 1 1]\n",
      " [1 1 0 1 1 1 1 1]\n",
      " [0 1 1 2 1 2 0 1]\n",
      " [0 0 2 1 2 0 1 0]\n",
      " [2 2 1 1 1 1 1 1]\n",
      " [2 1 2 0 2 1 2 2]]\n",
      "\n",
      "[[0.50919024 0.12225309 0.07129237 0.32542598 0.99952328 0.90800124\n",
      "  0.19976522 0.47064011]\n",
      " [0.80482798 0.1730563  0.26360585 0.63962189 0.53392526 0.09808219\n",
      "  0.87880763 0.72023596]\n",
      " [0.02180239 0.53963094 0.57562934 0.33063954 0.57839731 0.08399428\n",
      "  0.31303147 0.49257025]\n",
      " [0.44110309 0.03367748 0.5899445  0.71120944 0.74965628 0.2335253\n",
      "  0.45610357 0.9225353 ]\n",
      " [0.70683697 0.67901802 0.38338624 0.66480615 0.59028506 0.28565833\n",
      "  0.05052028 0.08299894]\n",
      " [0.04184022 0.52474277 0.57850546 0.91430579 0.37506444 0.29559046\n",
      "  0.91231596 0.36038389]\n",
      " [0.17975056 0.91358723 0.32879769 0.31195747 0.63943506 0.57053796\n",
      "  0.46184112 0.79448062]]\n",
      "7 8\n",
      "[[0.7422392  0.71569918 0.71213007 0.72975516 0.7745659  0.76863523\n",
      "  0.72109398 0.73963776]\n",
      " [0.76189422 0.71923962 0.72550712 0.75097416 0.74390357 0.71400856\n",
      "  0.76673383 0.75632242]\n",
      " [0.70864677 0.74428697 0.74670137 0.73011229 0.74688669 0.71302134\n",
      "  0.72890544 0.74111877]\n",
      " [0.73763833 0.70948414 0.74765931 0.75572544 0.75826488 0.72343108\n",
      "  0.73865442 0.7695801 ]\n",
      " [0.7554361  0.7535926  0.73371563 0.75264907 0.74768209 0.72702533\n",
      "  0.71067013 0.71295154]\n",
      " [0.71005917 0.74328613 0.74689393 0.76904524 0.73314831 0.72770808\n",
      "  0.76891586 0.73214643]\n",
      " [0.71970484 0.76899852 0.72998614 0.72883177 0.75096172 0.74636037\n",
      "  0.7390427  0.76121486]]\n"
     ]
    }
   ],
   "source": [
    "A = np.random.randint(1,50,(7,8))\n",
    "print(A)\n",
    "row, col = A.shape\n",
    "print(row, col)\n",
    "for i in range(row):\n",
    "    for j in range(col):\n",
    "        A[i,j] = np.sqrt((A[i,j]+5)/10)\n",
    "print(A)\n",
    "print('')\n",
    "## WE CAN ALSO DO THIS IN FOLLOWING WAYS:\n",
    "A = np.random.rand(7,8)\n",
    "print(A)\n",
    "row, col = A.shape\n",
    "print(row, col)\n",
    "for i in range(row):\n",
    "    for j in range(col):\n",
    "        A[i,j] = np.sqrt((A[i,j]+5)/10)\n",
    "print(A)"
   ]
  },
  {
   "cell_type": "code",
   "execution_count": 78,
   "id": "2f37844e",
   "metadata": {},
   "outputs": [
    {
     "name": "stdout",
     "output_type": "stream",
     "text": [
      "[[1 2 3]\n",
      " [4 5 6]] (2, 3)\n",
      "[[10  4  6]\n",
      " [ 2  4  6]] (2, 3)\n"
     ]
    }
   ],
   "source": [
    "a2d = np.array([[1,2,3],[4,5,6]])\n",
    "b2d = np.array([[10,4,6],[2,4,6]])\n",
    "print(a2d, a2d.shape)\n",
    "print(b2d, b2d.shape)"
   ]
  },
  {
   "cell_type": "code",
   "execution_count": 79,
   "id": "ed1303bf",
   "metadata": {},
   "outputs": [
    {
     "name": "stdout",
     "output_type": "stream",
     "text": [
      "[[1 4]\n",
      " [2 5]\n",
      " [3 6]]\n",
      "[[1 2 3]\n",
      " [4 5 6]]\n"
     ]
    }
   ],
   "source": [
    "c2d = a2d.T ## Transpose\n",
    "print(c2d)\n",
    "print(a2d)"
   ]
  },
  {
   "cell_type": "code",
   "execution_count": 80,
   "id": "7f747f46",
   "metadata": {},
   "outputs": [
    {
     "name": "stdout",
     "output_type": "stream",
     "text": [
      "[[10  8 18]\n",
      " [ 8 20 36]]\n"
     ]
    }
   ],
   "source": [
    "## belement wise multiplication\n",
    "d2d = a2d * b2d\n",
    "print(d2d)"
   ]
  },
  {
   "cell_type": "code",
   "execution_count": 84,
   "id": "cfc878f9",
   "metadata": {},
   "outputs": [
    {
     "name": "stdout",
     "output_type": "stream",
     "text": [
      "[[10  8 18]\n",
      " [ 8 20 36]]\n"
     ]
    }
   ],
   "source": [
    "d_2d  = np.multiply(a2d,b2d) ## we can do same work with this function\n",
    "print(d_2d)"
   ]
  },
  {
   "cell_type": "code",
   "execution_count": 87,
   "id": "775caa8c",
   "metadata": {},
   "outputs": [
    {
     "name": "stdout",
     "output_type": "stream",
     "text": [
      "(2, 3) (2, 3) (3, 2)\n"
     ]
    }
   ],
   "source": [
    "print(a2d.shape,b2d.shape,c2d.shape)"
   ]
  },
  {
   "cell_type": "code",
   "execution_count": 90,
   "id": "2da1b713",
   "metadata": {},
   "outputs": [
    {
     "name": "stdout",
     "output_type": "stream",
     "text": [
      "[[14 32]\n",
      " [32 77]]\n"
     ]
    }
   ],
   "source": [
    "## Mtrix Multiplication\n",
    "e2d = np.dot(a2d,c2d)\n",
    "print(e2d)\n",
    " "
   ]
  },
  {
   "cell_type": "code",
   "execution_count": 94,
   "id": "76dbb4c8",
   "metadata": {},
   "outputs": [
    {
     "name": "stdout",
     "output_type": "stream",
     "text": [
      "[[14 32]\n",
      " [32 77]]\n"
     ]
    }
   ],
   "source": [
    "e_2d = np.matmul(a2d,c2d) ## same matrix multiplication can be done by matmul function\n",
    "print(e_2d)"
   ]
  },
  {
   "cell_type": "code",
   "execution_count": 96,
   "id": "34836329",
   "metadata": {},
   "outputs": [
    {
     "name": "stdout",
     "output_type": "stream",
     "text": [
      "54.00000000000001\n"
     ]
    }
   ],
   "source": [
    "det1 = np.linalg.det(e2d) ## this function give the determinants of the function\n",
    "print(det1)"
   ]
  },
  {
   "cell_type": "code",
   "execution_count": 97,
   "id": "c49f55f6",
   "metadata": {},
   "outputs": [
    {
     "name": "stdout",
     "output_type": "stream",
     "text": [
      "[ 0.59732747 90.40267253]\n",
      "[[-0.92236578 -0.3863177 ]\n",
      " [ 0.3863177  -0.92236578]]\n"
     ]
    }
   ],
   "source": [
    "eig, eig1 = np.linalg.eig(e2d)\n",
    "print(eig)\n",
    "print(eig1)"
   ]
  },
  {
   "cell_type": "code",
   "execution_count": 98,
   "id": "98dd40c7",
   "metadata": {},
   "outputs": [
    {
     "name": "stdout",
     "output_type": "stream",
     "text": [
      "[[ 1.42592593 -0.59259259]\n",
      " [-0.59259259  0.25925926]]\n"
     ]
    }
   ],
   "source": [
    "## for inverse of matrix\n",
    "inv1 = np.linalg.inv(e2d)\n",
    "print(inv1)"
   ]
  },
  {
   "cell_type": "code",
   "execution_count": 99,
   "id": "eddfdc58",
   "metadata": {},
   "outputs": [
    {
     "name": "stdout",
     "output_type": "stream",
     "text": [
      "[[ 1  2  3  4]\n",
      " [ 5  6  7  8]\n",
      " [ 9 10 11 12]]\n"
     ]
    }
   ],
   "source": [
    "a = np.array([[1,2,3,4],[5,6,7,8],[9,10,11,12]])\n",
    "print(a)"
   ]
  },
  {
   "cell_type": "code",
   "execution_count": 101,
   "id": "03b29a50",
   "metadata": {},
   "outputs": [
    {
     "name": "stdout",
     "output_type": "stream",
     "text": [
      "[[2 3]\n",
      " [6 7]]\n"
     ]
    }
   ],
   "source": [
    "b = a[:2, 1:3]  ## Last exclusive\n",
    "print(b)  ### we extract a matric of 1st two row & from 1 to 3 coloumn(means 2nd & 3rd coloumn),where last exclusive"
   ]
  },
  {
   "cell_type": "code",
   "execution_count": 104,
   "id": "7e51b232",
   "metadata": {},
   "outputs": [
    {
     "name": "stdout",
     "output_type": "stream",
     "text": [
      "[[77  3]\n",
      " [ 6  7]]\n",
      "[[ 1 77  3  4]\n",
      " [ 5  6  7  8]\n",
      " [ 9 10 11 12]]\n"
     ]
    }
   ],
   "source": [
    "b[0,0] = 77   ## i want to change b[0,0] location by 77\n",
    "print(b)\n",
    "print(a)"
   ]
  },
  {
   "cell_type": "code",
   "execution_count": 106,
   "id": "6c3f1a85",
   "metadata": {},
   "outputs": [
    {
     "name": "stdout",
     "output_type": "stream",
     "text": [
      "[[77 64]\n",
      " [ 6  7]]\n"
     ]
    }
   ],
   "source": [
    "b[0,1] = 64\n",
    "print(b)"
   ]
  },
  {
   "cell_type": "code",
   "execution_count": 107,
   "id": "e93bb150",
   "metadata": {},
   "outputs": [
    {
     "name": "stdout",
     "output_type": "stream",
     "text": [
      "[[ 1 77 64  4]\n",
      " [ 5  6  7  8]\n",
      " [ 9 10 11 12]]\n"
     ]
    }
   ],
   "source": [
    "print(a)"
   ]
  },
  {
   "cell_type": "code",
   "execution_count": 108,
   "id": "b915e513",
   "metadata": {},
   "outputs": [
    {
     "name": "stdout",
     "output_type": "stream",
     "text": [
      "[[ 1 77 64  4]\n",
      " [ 5  6  7  8]\n",
      " [ 9 10 11 12]]\n"
     ]
    }
   ],
   "source": [
    "c = np.copy(a)\n",
    "print(c)"
   ]
  },
  {
   "cell_type": "code",
   "execution_count": 110,
   "id": "d17f4a3e",
   "metadata": {},
   "outputs": [
    {
     "name": "stdout",
     "output_type": "stream",
     "text": [
      "[[105  77  64   4]\n",
      " [  5   6   7   8]\n",
      " [  9  10  11  12]]\n",
      "[[ 1 77 64  4]\n",
      " [ 5  6  7  8]\n",
      " [ 9 10 11 12]]\n"
     ]
    }
   ],
   "source": [
    "c[0,0]= 105\n",
    "print(c)\n",
    "print(a)"
   ]
  },
  {
   "cell_type": "code",
   "execution_count": 111,
   "id": "7a44a407",
   "metadata": {},
   "outputs": [
    {
     "name": "stdout",
     "output_type": "stream",
     "text": [
      "[[ 1  2  3]\n",
      " [ 4  5  6]\n",
      " [ 7  8  9]\n",
      " [10 11 12]]\n",
      "[1 0 1]\n"
     ]
    }
   ],
   "source": [
    "## we will add the vector v to each row of matrix x,\n",
    "## storing the result in the matrix y\n",
    "x = np.array([[1,2,3],[4,5,6],[7,8,9],[10,11,12]])\n",
    "print(x)\n",
    "v = np.array([1,0,1])\n",
    "print(v)"
   ]
  },
  {
   "cell_type": "code",
   "execution_count": 116,
   "id": "0456a10a",
   "metadata": {},
   "outputs": [
    {
     "name": "stdout",
     "output_type": "stream",
     "text": [
      "[[1 0 1]\n",
      " [1 0 1]\n",
      " [1 0 1]\n",
      " [1 0 1]]\n"
     ]
    }
   ],
   "source": [
    "vv = np.tile(v, (4,1))      ## stack 4 copies of v on top of each other one time\n",
    "print(vv)                 ## prints \"[[1,0,1]\n",
    "                          ##         [1,0,1]\n",
    "                          ##         [1,0,1]\n",
    "                          ##         [1,0,1]]\"\n",
    "            "
   ]
  },
  {
   "cell_type": "code",
   "execution_count": 119,
   "id": "7b111cad",
   "metadata": {},
   "outputs": [
    {
     "name": "stdout",
     "output_type": "stream",
     "text": [
      "[[1 0 1 1 0 1]\n",
      " [1 0 1 1 0 1]\n",
      " [1 0 1 1 0 1]\n",
      " [1 0 1 1 0 1]]\n"
     ]
    }
   ],
   "source": [
    "vv = np.tile(v, (4,2))      ## stack 4 copies of v on top of each other 2 time\n",
    "print(vv)          ## here 4 copies tileing  twice"
   ]
  },
  {
   "cell_type": "code",
   "execution_count": 121,
   "id": "8f6a868c",
   "metadata": {},
   "outputs": [
    {
     "name": "stdout",
     "output_type": "stream",
     "text": [
      "[[1 0 1 1 0 1 1 0 1 1 0 1 1 0 1]\n",
      " [1 0 1 1 0 1 1 0 1 1 0 1 1 0 1]\n",
      " [1 0 1 1 0 1 1 0 1 1 0 1 1 0 1]]\n"
     ]
    }
   ],
   "source": [
    "vv = np.tile(v, (3,5))      ## stack 3 copies of v on top of each other five time\n",
    "print(vv)"
   ]
  },
  {
   "cell_type": "code",
   "execution_count": 123,
   "id": "dcc0c1cd",
   "metadata": {},
   "outputs": [
    {
     "name": "stdout",
     "output_type": "stream",
     "text": [
      "[[ 2  2  4]\n",
      " [ 5  5  7]\n",
      " [ 8  8 10]\n",
      " [11 11 13]]\n"
     ]
    }
   ],
   "source": [
    "print(x+v)"
   ]
  },
  {
   "cell_type": "code",
   "execution_count": 122,
   "id": "5507342b",
   "metadata": {},
   "outputs": [
    {
     "name": "stdout",
     "output_type": "stream",
     "text": [
      "[[1 0 1]\n",
      " [1 0 1]\n",
      " [1 0 1]\n",
      " [1 0 1]]\n"
     ]
    }
   ],
   "source": [
    "vv = np.tile(v, (4,1))      ## stack 4 copies of v on top of each other one time\n",
    "print(vv)"
   ]
  },
  {
   "cell_type": "code",
   "execution_count": 124,
   "id": "90d19878",
   "metadata": {},
   "outputs": [
    {
     "name": "stdout",
     "output_type": "stream",
     "text": [
      "[[ 2  2  4]\n",
      " [ 5  5  7]\n",
      " [ 8  8 10]\n",
      " [11 11 13]]\n"
     ]
    }
   ],
   "source": [
    "y = x + vv     ## Add x and vv element wise\n",
    "print(y)       ##prints     \"[[2,2,4]\n",
    "               ##             [5,5,7]\n",
    "               ##             [8,8,10]\n",
    "               ##             [11,11,13]]\""
   ]
  },
  {
   "cell_type": "code",
   "execution_count": 126,
   "id": "72082741",
   "metadata": {},
   "outputs": [
    {
     "name": "stdout",
     "output_type": "stream",
     "text": [
      "[[ 2  2  4]\n",
      " [ 5  5  7]\n",
      " [ 8  8 10]\n",
      " [11 11 13]]\n"
     ]
    }
   ],
   "source": [
    "## we will add the vector v to each row of matrix x,\n",
    "## storing the result in the matrix y\n",
    "x = np.array([[1,2,3],[4,5,6],[7,8,9],[10,11,12]])\n",
    "\n",
    "v = np.array([1,0,1])  \n",
    "y = x+v ## Add v to each row of x using broadcasting\n",
    "print(y)       ##prints     \"[[2,2,4]\n",
    "               ##             [5,5,7]\n",
    "               ##             [8,8,10]\n",
    "               ##             [11,11,13]]\""
   ]
  },
  {
   "cell_type": "markdown",
   "id": "19e6f76f",
   "metadata": {},
   "source": [
    "<b>Exercise:</b> Create an random array A of size 5x4. Using np.tile() function, Add a random vector of size 4 with first three rows of A and at another random vector of size 4 with last two rows of A."
   ]
  },
  {
   "cell_type": "code",
   "execution_count": 130,
   "id": "bd8ac3d8",
   "metadata": {},
   "outputs": [
    {
     "name": "stdout",
     "output_type": "stream",
     "text": [
      "[[96 86 40 42]\n",
      " [86  9 23  4]\n",
      " [ 2 61 35 91]\n",
      " [ 2 21 25 94]\n",
      " [89 27 46 65]]\n",
      "[1 1 1 1]\n",
      "[0 1 1 1]\n"
     ]
    }
   ],
   "source": [
    "A = np.random.randint(1,100,(5,4))\n",
    "vec1 = np.random.randint(0,2,4)\n",
    "vec2 = np.random.randint(0,2,4)\n",
    "print(A)\n",
    "print(vec1)\n",
    "print(vec2)"
   ]
  },
  {
   "cell_type": "code",
   "execution_count": 131,
   "id": "97279531",
   "metadata": {},
   "outputs": [
    {
     "name": "stdout",
     "output_type": "stream",
     "text": [
      "[[97 87 41 43]\n",
      " [87 10 24  5]\n",
      " [ 3 62 36 92]\n",
      " [ 2 22 26 95]\n",
      " [89 28 47 66]]\n"
     ]
    }
   ],
   "source": [
    "A[:3,:] = A[:3,:]+vec1\n",
    "A[3:,:] = A[3:,:]+vec2\n",
    "print(A)"
   ]
  },
  {
   "cell_type": "markdown",
   "id": "da3dba96",
   "metadata": {},
   "source": [
    "# Reference\n",
    "#### NumPy documentation\n",
    "#### NumPy user guide"
   ]
  }
 ],
 "metadata": {
  "kernelspec": {
   "display_name": "Python 3 (ipykernel)",
   "language": "python",
   "name": "python3"
  },
  "language_info": {
   "codemirror_mode": {
    "name": "ipython",
    "version": 3
   },
   "file_extension": ".py",
   "mimetype": "text/x-python",
   "name": "python",
   "nbconvert_exporter": "python",
   "pygments_lexer": "ipython3",
   "version": "3.9.7"
  }
 },
 "nbformat": 4,
 "nbformat_minor": 5
}
